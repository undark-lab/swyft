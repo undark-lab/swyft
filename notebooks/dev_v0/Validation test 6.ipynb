{
 "cells": [
  {
   "cell_type": "code",
   "execution_count": 1,
   "id": "c1ee5187",
   "metadata": {
    "tags": []
   },
   "outputs": [],
   "source": [
    "%load_ext autoreload\n",
    "%autoreload 2"
   ]
  },
  {
   "cell_type": "markdown",
   "id": "675eb475-2378-46d6-a08c-6a0637074e15",
   "metadata": {},
   "source": [
    "Illustrates exponential model with tight measurement constraints and PSF"
   ]
  },
  {
   "cell_type": "code",
   "execution_count": 2,
   "id": "d330c9ab",
   "metadata": {
    "tags": []
   },
   "outputs": [],
   "source": [
    "import numpy as np\n",
    "import torch\n",
    "from torch import nn\n",
    "import torch\n",
    "import time\n",
    "from pytorch_unet.unet import UNet  # Run \"git clone https://github.com/cweniger/pytorch_unet.git\"\n",
    "import swyft\n",
    "import wandb\n",
    "import pylab as plt\n",
    "from pytorch_lightning.loggers import WandbLogger\n",
    "from scipy.ndimage import gaussian_filter\n",
    "\n",
    "import scipy.stats.distributions as dist\n",
    "from tqdm import tqdm\n",
    "\n",
    "torch.set_float32_matmul_precision('medium')\n",
    "DEVICE = \"cuda\""
   ]
  },
  {
   "cell_type": "markdown",
   "id": "8fff175f-d7ea-48fe-a117-b989b1bab0f0",
   "metadata": {},
   "source": [
    "We assume that the likelihood function can be decomposed as\n",
    "$$p(\\mathbf x | \\mathbf z) = \\Pi_i p(s_i|z_i)$$\n",
    "Where the components of $\\mathbf z$ are wavelet transforms."
   ]
  },
  {
   "cell_type": "code",
   "execution_count": 3,
   "id": "f094edde-b00c-4c63-b4da-fa2cac455c05",
   "metadata": {},
   "outputs": [],
   "source": [
    "SIGMA = 1e-2\n",
    "NPIX = 32"
   ]
  },
  {
   "cell_type": "code",
   "execution_count": 4,
   "id": "0b2acca3-5e01-464d-9023-46eb6c67cebb",
   "metadata": {},
   "outputs": [],
   "source": [
    "def down1d(x):\n",
    "    # Squeeze to make work with zero and one batch dimensions\n",
    "    return torch.nn.functional.avg_pool1d(x.unsqueeze(0), 2).squeeze(0)\n",
    "\n",
    "def down2d(x):\n",
    "    return torch.nn.functional.avg_pool2d(x.unsqueeze(0), 2).squeeze(0)\n",
    "\n",
    "def down3d(x):\n",
    "    return torch.nn.functional.avg_pool3d(x.unsqueeze(0), 2).squeeze(0)\n",
    "\n",
    "def up1d(x):\n",
    "    return x.repeat_interleave(2, dim = -1)\n",
    "\n",
    "def up2d(x):\n",
    "    return x.repeat_interleave(2, dim = -2).repeat_interleave(2, dim = -1)\n",
    "\n",
    "def up3d(x):\n",
    "    return x.repeat_interleave(2, dim = -3).repeat_interleave(2, dim = -2).repeat_interleave(2, dim = -1)\n",
    "\n",
    "def avg1d(x):\n",
    "    return up1d(down1d(x))\n",
    "\n",
    "def avg2d(x):\n",
    "    return up2d(down2d(x))\n",
    "\n",
    "def avg3d(x):\n",
    "    return up3d(down3d(x))"
   ]
  },
  {
   "cell_type": "code",
   "execution_count": 5,
   "id": "6e4a2928-c9da-4719-8a22-0b6d159e250c",
   "metadata": {},
   "outputs": [],
   "source": [
    "def Phi1d(x):\n",
    "    \"\"\"\n",
    "    Takes 1-dim array x of length 2^L and turns it into 1-dim array of length 2*2^L-1\n",
    "    [x1, x2, x3, x4, (x1+x2)/2, (x3+x4)/2, (x1+x2+x3+x4)/4] etc\n",
    "    \"\"\"\n",
    "    length = x.shape[-1]\n",
    "    levels = int(np.log2(length))\n",
    "    temp = x\n",
    "    out = [temp]\n",
    "    for l in range(levels):\n",
    "        temp = down1d(temp)\n",
    "        out.append(temp)\n",
    "    return torch.cat(out, dim=-1)\n",
    "\n",
    "def PhiT1d(x):\n",
    "    \"\"\"\n",
    "    Transpose of Phi1d\n",
    "    \"\"\"\n",
    "    length = int((x.shape[-1]+1)/2)\n",
    "    levels = int(np.log2(length))\n",
    "    tmp = x\n",
    "    out = tmp[..., :length]\n",
    "    for l in range(levels, 0, -1):\n",
    "        tmp = torch.repeat_interleave(tmp[..., length:], 2, dim=-1)/2\n",
    "        out += tmp[..., :length]\n",
    "    return out\n",
    "\n",
    "def Cont1d(x):\n",
    "    \"\"\"\n",
    "    Calculates low-res contrastive vector.\n",
    "    \"\"\"\n",
    "    L = int((x.shape[-1]+1)/2)\n",
    "    x = torch.repeat_interleave(x[..., L:], 2, dim=-1)\n",
    "    x = torch.cat([x, x[..., -1:]*0], dim = -1)\n",
    "    return x\n",
    "\n",
    "def Phi2d(x):\n",
    "    \"\"\"\n",
    "    Takes 2-dim array x of length 2^L and turns it into 1-dim array of length 2*2^L-1\n",
    "    [x1, x2, x3, x4, (x1+x2)/2, (x3+x4)/2, (x1+x2+x3+x4)/4] etc\n",
    "    \"\"\"\n",
    "    length = x.shape[-1]\n",
    "    levels = int(np.log2(length))\n",
    "    temp = x\n",
    "    out = [temp.flatten(start_dim=-2)]\n",
    "    for l in range(levels):\n",
    "        temp = down2d(temp)\n",
    "        out.append(temp.flatten(start_dim=-2))\n",
    "    return torch.cat(out, dim=-1)\n",
    "\n",
    "def PhiT2d(x, length):\n",
    "    \"\"\"\n",
    "    Transpose of Phi2d\n",
    "    \"\"\"\n",
    "#    length = int((x.shape[-1]+1)/2)\n",
    "    levels = int(np.log2(length))\n",
    "    tmp = x\n",
    "    out = torch.zeros(*x.shape[:-2], length, length, device = x.device)\n",
    "    for l in range(levels, 0, -1):\n",
    "        tmp = torch.repeat_interleave(tmp[..., length:], 2, dim=-1)/4\n",
    "        out += tmp[..., :length]\n",
    "    return out"
   ]
  },
  {
   "cell_type": "code",
   "execution_count": 6,
   "id": "1fac29c3-0deb-4cd1-8e2c-fc8935ed25dc",
   "metadata": {},
   "outputs": [
    {
     "data": {
      "text/plain": [
       "tensor([[3., 3., 3., 3., 3., 3., 3., 3.],\n",
       "        [3., 3., 3., 3., 3., 3., 3., 3.],\n",
       "        [3., 3., 3., 3., 3., 3., 3., 3.],\n",
       "        [3., 3., 3., 3., 3., 3., 3., 3.],\n",
       "        [3., 3., 3., 3., 3., 3., 3., 3.],\n",
       "        [3., 3., 3., 3., 3., 3., 3., 3.],\n",
       "        [3., 3., 3., 3., 3., 3., 3., 3.],\n",
       "        [3., 3., 3., 3., 3., 3., 3., 3.]])"
      ]
     },
     "execution_count": 6,
     "metadata": {},
     "output_type": "execute_result"
    }
   ],
   "source": [
    "idx = torch.tensor([[0, 2, 3], [1, 4, 5]])\n",
    "x = torch.rand(6)\n",
    "y = x[idx]\n",
    "z = torch.empty_like(x)\n",
    "z[idx] = y\n",
    "\n",
    "levels = 3\n",
    "n = 2**levels\n",
    "idx_block = torch.zeros(1, 1)\n",
    "for l in range(levels):\n",
    "    idx_block += 1\n",
    "    idx_block = idx_block.repeat_interleave(2, dim = -1).repeat_interleave(2, dim = -2)\n",
    "idx_block"
   ]
  },
  {
   "cell_type": "code",
   "execution_count": 7,
   "id": "f4baa790-ae6f-471d-a9d2-f47b46eebd10",
   "metadata": {},
   "outputs": [],
   "source": [
    "def nested_indices_2dim(levels):\n",
    "    if levels == 0:\n",
    "        return torch.tensor([[0]])\n",
    "    x1 = torch.tensor([[0, 1], [2, 3]])\n",
    "    x = x1\n",
    "    for l in range(1, levels):\n",
    "        x = x.repeat(2, 2) + x1.repeat_interleave(2**l, dim=-2).repeat_interleave(2**l, dim=-1)*4**l\n",
    "    return x\n",
    "\n",
    "idx = nested_indices_2dim(5)\n",
    "\n",
    "x = torch.randn(3, 4, 32, 32)\n",
    "\n",
    "def PhiT(x):\n",
    "    return x[..., idx]\n",
    "\n",
    "def Phi(x):\n",
    "    z = torch.empty(*x.shape[:-2], idx.shape[0]*idx.shape[1])\n",
    "    z[..., idx] = x\n",
    "    return z\n",
    "\n",
    "def Phi2(x, levels):\n",
    "    batch_dims = x.shape[:-2]\n",
    "    x = Phi(x)\n",
    "    out = [x]\n",
    "    for _ in range(levels):\n",
    "        x = x.view(*batch_dims, -1, 4).mean(axis=-1)\n",
    "        out.append(x)\n",
    "    return torch.cat(out, dim = -1)\n",
    "\n",
    "def Phi2(x, levels):\n",
    "    batch_dims = x.shape[:-2]\n",
    "    x = Phi(x)\n",
    "    out = [x]\n",
    "    for _ in range(levels):\n",
    "        x = x.view(*batch_dims, -1, 4).mean(axis=-1)\n",
    "        out.append(x)\n",
    "    return torch.cat(out, dim = -1)"
   ]
  },
  {
   "cell_type": "code",
   "execution_count": 8,
   "id": "6c6b68ce-4a77-490c-9211-ad3c40450934",
   "metadata": {},
   "outputs": [
    {
     "data": {
      "text/plain": [
       "torch.Size([32, 32])"
      ]
     },
     "execution_count": 8,
     "metadata": {},
     "output_type": "execute_result"
    }
   ],
   "source": [
    "# Function x_img -> x_flattened = Phi x_img\n",
    "# Function x_flattened -> Phi.T x_flattened\n",
    "# Function x_flattened (B, N) -> x_flattened (B, N, C) autoregressive correlated channels\n",
    "\n",
    "class WaveMe:\n",
    "    def __init__(self, idx, corr_range = 5):\n",
    "        self.idx = idx\n",
    "        self.in_shape = self.idx.shape\n",
    "        self.out_length = len(idx.flatten())\n",
    "        self.for_idx = idx.flatten()\n",
    "        self.inv_idx = torch.empty_like(idx.flatten())\n",
    "        self.inv_idx[idx.flatten()] = torch.tensor(range(len(self.inv_idx)))\n",
    "        \n",
    "        if isinstance(corr_range, int):\n",
    "            corr_range = torch.arange(-corr_range, 0)\n",
    "        self.auto_idx = (\n",
    "            corr_range.unsqueeze(0).repeat(self.out_length, 1)\n",
    "            + torch.arange(self.out_length).unsqueeze(1).repeat(1, len(corr_range))\n",
    "        )\n",
    "\n",
    "    def Phi(self, x):\n",
    "        \"\"\"Image -> Phi Image\"\"\"\n",
    "        z = x.flatten(start_dim=-len(self.idx.shape))[..., self.for_idx]\n",
    "        return z\n",
    "    \n",
    "    def PhiT(self, z):\n",
    "        x = z[..., self.inv_idx].view(*z.shape[:-1], *self.idx.shape)\n",
    "        return x\n",
    "    \n",
    "    def Autoregressive(self, z):\n",
    "        return z[..., self.auto_idx]*(self.auto_idx >= 0)\n",
    "\n",
    "wm = WaveMe(nested_indices_2dim(5), corr_range = 5)\n",
    "wm.in_shape"
   ]
  },
  {
   "cell_type": "code",
   "execution_count": 9,
   "id": "15bc35fc-911b-4adc-9206-538343068ebd",
   "metadata": {},
   "outputs": [
    {
     "data": {
      "text/plain": [
       "torch.Size([16, 16])"
      ]
     },
     "execution_count": 9,
     "metadata": {},
     "output_type": "execute_result"
    }
   ],
   "source": [
    "# Function x_img -> x_flattened = Phi x_img\n",
    "# Function x_flattened -> Phi.T x_flattened\n",
    "# Function x_flattened (B, N) -> x_flattened (B, N, C) autoregressive correlated channels\n",
    "\n",
    "class WaveMe2:\n",
    "    def __init__(self, idx, corr_range = 5):\n",
    "        self.idx = idx\n",
    "        self.in_shape = self.idx.shape\n",
    "        self.out_length = len(idx.flatten())\n",
    "        self.for_idx = idx.flatten()\n",
    "        self.inv_idx = torch.empty_like(idx.flatten())\n",
    "        self.inv_idx[idx.flatten()] = torch.tensor(range(len(self.inv_idx)))\n",
    "        \n",
    "        if isinstance(corr_range, int):\n",
    "            corr_range = torch.arange(-corr_range, 0)\n",
    "        self.auto_idx = (\n",
    "            corr_range.unsqueeze(0).repeat(self.out_length, 1)\n",
    "            + torch.arange(self.out_length).unsqueeze(1).repeat(1, len(corr_range))\n",
    "        )\n",
    "\n",
    "    def Phi(self, x):\n",
    "        \"\"\"Image -> Phi Image\"\"\"\n",
    "#        print(x.shape)\n",
    "        x = down2d(x)\n",
    "#        z = x.flatten(start_dim=-len(self.idx.shape))[..., self.for_idx]\n",
    "        z = x.flatten(start_dim=-len(self.idx.shape))\n",
    "#        print(z.shape)\n",
    "        return z\n",
    "    \n",
    "    def PhiT(self, z):\n",
    "#        print(z.shape)\n",
    "#        x = z[..., self.inv_idx].view(*z.shape[:-1], *self.idx.shape)\n",
    "        x = z.view(*z.shape[:-1], *self.idx.shape)\n",
    "        x = up2d(x)/4\n",
    "#        print(x.shape)\n",
    "        return x\n",
    "    \n",
    "    def Autoregressive(self, z):\n",
    "        return z[..., self.auto_idx]*(self.auto_idx >= 0)\n",
    "\n",
    "wm = WaveMe2(nested_indices_2dim(4), corr_range = 5)\n",
    "wm.in_shape"
   ]
  },
  {
   "cell_type": "markdown",
   "id": "501622e8-e484-4013-a063-4c94561f0f48",
   "metadata": {},
   "source": [
    "### Generative model"
   ]
  },
  {
   "cell_type": "code",
   "execution_count": 10,
   "id": "fed75f3c-e59d-4ceb-af5f-a074d59aecd2",
   "metadata": {
    "tags": []
   },
   "outputs": [],
   "source": [
    "class SimulatorBlob(swyft.Simulator):\n",
    "    def __init__(self, bounds = None, Npix = NPIX, sigma = SIGMA, bounds_theta = None):\n",
    "        super().__init__()\n",
    "        self.transform_samples = swyft.to_numpy32\n",
    "        self.bounds = bounds\n",
    "        self.Npix = Npix\n",
    "        self.sigma = sigma\n",
    "        self.powersampler = swyft.utils.PowerSpectrumSampler(Npix)\n",
    "        self.sigma = torch.ones(Npix, Npix)*sigma\n",
    "\n",
    "    def get_pk_fn(self):\n",
    "#        return lambda k: 1e5*(k/0.5+1)**-3\n",
    "        return lambda k: k*0 + 2  # pixel std is 1\n",
    "\n",
    "    def sample_delta(self, pk_fn):\n",
    "        if self.bounds is not None:\n",
    "            i = np.random.randint(len(self.bounds))\n",
    "            return torch.tensor(self.bounds[i])\n",
    "        else:\n",
    "            return self.powersampler.sample(pk_fn)\n",
    "            \n",
    "    def build(self, graph):\n",
    "        pk_fn = graph.node(\"pk_fn\", self.get_pk_fn)\n",
    "        delta = graph.node(\"delta\", self.sample_delta, pk_fn)\n",
    "#        rho = graph.node(\"rho\", lambda delta: torch.tensor(gaussian_filter(np.exp(delta*0.2), .01)), delta)\n",
    "#        rho = graph.node(\"rho\", lambda delta: torch.tensor(np.exp(gaussian_filter(delta, 1))), delta)\n",
    "#        rho = graph.node(\"rho\", lambda delta: torch.tensor(gaussian_filter(delta, .001)), delta)\n",
    "        rho = graph.node(\"rho\", lambda delta: up2d(down2d(torch.tensor(delta))), delta)\n",
    "#        rho = graph.node(\"rho\", lambda delta: torch.tensor(np.exp(delta*0.2)), delta)\n",
    "        x = graph.node(\"x\", lambda rho: rho + torch.randn(self.Npix, self.Npix)*self.sigma, rho)"
   ]
  },
  {
   "cell_type": "code",
   "execution_count": 11,
   "id": "43751038-59bb-4b49-b228-894f847bcc84",
   "metadata": {},
   "outputs": [],
   "source": [
    "class Network_delta_x(swyft.SwyftModule):\n",
    "    def __init__(self, N = NPIX):\n",
    "        super().__init__()\n",
    "        self.learning_rate = 1e-3\n",
    "        self.N = N\n",
    "#        self.Phi = lambda x: x.flatten(start_dim=-2)\n",
    "#        self.PhiT = lambda x: x.view(*x.shape[:-1], NPIX, NPIX)\n",
    "        self.Phi = wm.Phi\n",
    "        self.PhiT = wm.PhiT\n",
    "        self.lre = swyft.lightning.estimators.LogRatioEstimator_Gaussian_Autoregressive_Egmond(\n",
    "            self.N**2, \"mu\", Phi = self.Phi, PhiT = self.PhiT, minstd = 1e-5, momentum=0.02, shape = (NPIX, NPIX))\n",
    "        self.unet = UNet(1, 1, hidden_channels = 16, shallow=True)\n",
    "        self.norm1 = torch.nn.LazyBatchNorm2d(momentum = 0.01, affine = False)\n",
    "        self.norm = swyft.networks.OnlineStandardizingLayer((N, N))\n",
    "    \n",
    "    def embed(self, x):\n",
    "        # Input normalization apparently degrades performance, even for small momentum settings.\n",
    "#        x = self.norm1(x.unsqueeze(1)).squeeze(1)\n",
    "        x = self.norm(x)\n",
    "        x = self.unet(x.unsqueeze(1)).squeeze(1) + x*0\n",
    "        x = x.view(-1, self.N, self.N)\n",
    "        return x\n",
    "\n",
    "    def forward(self, A, B):\n",
    "        N = self.N\n",
    "        try:\n",
    "            xA = self.embed(A['x'])\n",
    "            xB = self.embed(B['x'])\n",
    "            deltaB = B['delta']\n",
    "            result1 = self.lre(xA, xB, deltaB)\n",
    "        except KeyError:\n",
    "            result1 = None\n",
    "        \n",
    "        return result1"
   ]
  },
  {
   "cell_type": "code",
   "execution_count": 12,
   "id": "3f0c92dc-74fb-4e97-bc31-f1b97e07b16c",
   "metadata": {},
   "outputs": [],
   "source": [
    "def get_samples(n_sims = 3000, bounds = None):\n",
    "    sim = SimulatorBlob(Npix = NPIX, bounds = bounds, sigma = SIGMA)\n",
    "    samples = sim.sample(n_sims, exclude = ['pk_fn'])\n",
    "    return sim, samples\n",
    "\n",
    "def train_delta_x(samples, max_epochs = 5, logger = None):\n",
    "    dm = swyft.SwyftDataModule(samples, batch_size = 64)\n",
    "    net = Network_delta_x()\n",
    "    trainer = swyft.SwyftTrainer(accelerator = DEVICE, max_epochs = max_epochs, logger = logger)\n",
    "    trainer.fit(net, dm)\n",
    "    return trainer, net\n",
    "\n",
    "def infer_delta_x(sample0, sim, trainer, net, n_draws = 10, gamma = 0.1, steps = 1000, logger = None):\n",
    "    GAMMA = gamma\n",
    "    x = sample0['x']\n",
    "    d = sample0['delta']\n",
    "    y = net.cuda().double().embed(torch.tensor(x).cuda().double().unsqueeze(0))[0]\n",
    "    draws = []\n",
    "    x0s = []\n",
    "    for _ in tqdm(range(n_draws)):\n",
    "        pk = sim.sample()['pk_fn']\n",
    "        prior = sim.powersampler.get_prior_Q_factors(pk)\n",
    "        prior = (prior[0], prior[1].cuda(), prior[2])\n",
    "        x0 = net.lre.get_MAP(y, prior, gamma = GAMMA)\n",
    "        x0s.append(x0)\n",
    "        draw = net.lre.get_noise_samples_GEDA(1, prior, steps = steps, reset = True, gamma = GAMMA)[0]\n",
    "        draws.append(draw)\n",
    "    draws = torch.stack(draws)\n",
    "    x0s = torch.stack(x0s)\n",
    "    \n",
    "    bounds = [(x0s[i].view(NPIX, NPIX).cpu().detach() + draws[i].view(NPIX, NPIX).cpu()).numpy() for i in range(len(draws))]\n",
    "    bounds = np.array(bounds)\n",
    "\n",
    "    net.float()\n",
    "    \n",
    "    v = 15\n",
    "    fig = plt.figure(figsize = (15, 5))\n",
    "    for i in range(4):\n",
    "        plt.subplot(2, 4, i+1)\n",
    "        if i == 0:\n",
    "            plt.imshow(sample0['delta'], cmap = 'seismic', vmin = -v, vmax = v)\n",
    "        else:\n",
    "            plt.imshow(bounds[i], vmin = -v, vmax = v, cmap = 'seismic')\n",
    "        plt.colorbar()    \n",
    "    #res = [(x0.view(NPIX, NPIX).cpu().detach()*0 + draws[i].view(NPIX, NPIX).cpu()).numpy() for i in range(len(draws))]\n",
    "    print(x.min(), x.max(), bounds[0].min(), bounds[0].max())\n",
    "    res = [d - bounds[i] for i in range(len(draws))]\n",
    "    for i in range(4):\n",
    "        plt.subplot(2, 4, i+1+4)\n",
    "        plt.imshow(res[i], vmin = -v, vmax = v, cmap = 'seismic')\n",
    "        plt.colorbar()\n",
    "    wandb.log({\"img1\": wandb.Image(fig)})\n",
    "\n",
    "    fig = plt.figure(figsize = (5, 5))\n",
    "    x = sample0['delta'].flatten()  # Ground truth\n",
    "    y = bounds.reshape(-1, NPIX**2)  # Posterior samples\n",
    "    ym = y.mean(axis=0)\n",
    "#    ys = y.std(axis=0)\n",
    "    plt.scatter(x, ym)\n",
    "    plt.scatter(x, x)\n",
    "    wandb.log({\"img2\": wandb.Image(fig)})\n",
    "    \n",
    "    fig = plt.figure(figsize = (5, 5))\n",
    "    x = sample0['delta'].flatten()  # Ground truth\n",
    "    y = bounds.reshape(-1, NPIX**2)  # Posterior samples\n",
    "#    ym = y.mean(axis=0)\n",
    "    ys = y.std(axis=0)\n",
    "    plt.scatter(x, ys)\n",
    "    ys_exp = SIGMA/0.2/np.exp(x*0.2)\n",
    "    plt.scatter(x, ys_exp)\n",
    "    wandb.log({\"img2b\": wandb.Image(fig)})\n",
    "\n",
    "    fig = plt.figure(figsize = (5, 5))\n",
    "    diff = (ym-x).flatten()\n",
    "    plt.hist(diff, bins = 30)\n",
    "    p = np.percentile(diff, [2.5, 16, 50, 84, 97.5])\n",
    "    print(\"Residual percentiles:\", p)\n",
    "    print(\"Mean posterior std per pixel:\", ys.mean())\n",
    "    wandb.log({\"img3\": wandb.Image(fig)})\n",
    "\n",
    "    fig = plt.figure(figsize = (5, 5))\n",
    "    pks = swyft.utils.get_pk(torch.tensor(bounds))\n",
    "    clean_sims = sim.sample(100)['delta']\n",
    "    pks2 = swyft.utils.get_pk(torch.tensor(clean_sims))\n",
    "    pks3 = swyft.utils.get_pk(torch.tensor(sample0['delta']))\n",
    "    plt.plot([], '0.5', alpha = 0.5, label = \"Unconstrained\")\n",
    "    plt.plot([], 'r', alpha = 0.5, label = \"Constrained\")\n",
    "    plt.semilogy(pks2.T, '0.5', alpha = 0.5);\n",
    "    plt.semilogy(pks.T, 'r', alpha = 0.5);\n",
    "    plt.semilogy(pks3.T, 'y', label = \"Truth\");\n",
    "    plt.legend()\n",
    "    wandb.log({\"img4\": wandb.Image(fig)})\n",
    "\n",
    "    return bounds"
   ]
  },
  {
   "cell_type": "code",
   "execution_count": 13,
   "id": "016665c8-c2a3-4e4a-a590-8ec094f65dc5",
   "metadata": {
    "tags": []
   },
   "outputs": [
    {
     "name": "stderr",
     "output_type": "stream",
     "text": [
      "/home/weniger/.conda/envs/lensing/lib/python3.9/site-packages/torch/functional.py:504: UserWarning: torch.meshgrid: in an upcoming release, it will be required to pass the indexing argument. (Triggered internally at /opt/conda/conda-bld/pytorch_1670525539683/work/aten/src/ATen/native/TensorShape.cpp:3190.)\n",
      "  return _VF.meshgrid(tensors, **kwargs)  # type: ignore[attr-defined]\n",
      "/tmp/ipykernel_1402571/726762477.py:28: UserWarning: To copy construct from a tensor, it is recommended to use sourceTensor.clone().detach() or sourceTensor.clone().detach().requires_grad_(True), rather than torch.tensor(sourceTensor).\n",
      "  rho = graph.node(\"rho\", lambda delta: up2d(down2d(torch.tensor(delta))), delta)\n"
     ]
    },
    {
     "data": {
      "image/png": "[encoded data removed]",
      "text/plain": [
       "<Figure size 640x480 with 2 Axes>"
      ]
     },
     "metadata": {},
     "output_type": "display_data"
    },
    {
     "name": "stdout",
     "output_type": "stream",
     "text": [
      "0.5136451\n"
     ]
    }
   ],
   "source": [
    "sim = SimulatorBlob(Npix = NPIX, sigma = SIGMA, bounds = None)\n",
    "sample0 = sim.sample()\n",
    "del sample0['pk_fn']\n",
    "x0 = sample0['x']\n",
    "plt.imshow(x0, cmap = 'seismic')#, vmin = - 20, vmax = 20)\n",
    "plt.colorbar()\n",
    "plt.show()\n",
    "print(x0.std())"
   ]
  },
  {
   "cell_type": "code",
   "execution_count": 14,
   "id": "4834a726-d8ea-422e-90e6-6a0661279c2d",
   "metadata": {
    "tags": []
   },
   "outputs": [
    {
     "name": "stderr",
     "output_type": "stream",
     "text": [
      "\u001b[34m\u001b[1mwandb\u001b[0m: Currently logged in as: \u001b[33mcweniger\u001b[0m (\u001b[33mundark\u001b[0m). Use \u001b[1m`wandb login --relogin`\u001b[0m to force relogin\n"
     ]
    },
    {
     "data": {
      "text/html": [
       "wandb version 0.15.11 is available!  To upgrade, please run:\n",
       " $ pip install wandb --upgrade"
      ],
      "text/plain": [
       "<IPython.core.display.HTML object>"
      ]
     },
     "metadata": {},
     "output_type": "display_data"
    },
    {
     "data": {
      "text/html": [
       "Tracking run with wandb version 0.15.10"
      ],
      "text/plain": [
       "<IPython.core.display.HTML object>"
      ]
     },
     "metadata": {},
     "output_type": "display_data"
    },
    {
     "data": {
      "text/html": [
       "Run data is saved locally in <code>/gpfs/home2/weniger/swyft/notebooks/dev/wandb/run-20230929_150921-m1uru534</code>"
      ],
      "text/plain": [
       "<IPython.core.display.HTML object>"
      ]
     },
     "metadata": {},
     "output_type": "display_data"
    },
    {
     "data": {
      "text/html": [
       "Syncing run <strong><a href='https://wandb.ai/undark/VT3e/runs/m1uru534' target=\"_blank\">round0</a></strong> to <a href='https://wandb.ai/undark/VT3e' target=\"_blank\">Weights & Biases</a> (<a href='https://wandb.me/run' target=\"_blank\">docs</a>)<br/>"
      ],
      "text/plain": [
       "<IPython.core.display.HTML object>"
      ]
     },
     "metadata": {},
     "output_type": "display_data"
    },
    {
     "data": {
      "text/html": [
       " View project at <a href='https://wandb.ai/undark/VT3e' target=\"_blank\">https://wandb.ai/undark/VT3e</a>"
      ],
      "text/plain": [
       "<IPython.core.display.HTML object>"
      ]
     },
     "metadata": {},
     "output_type": "display_data"
    },
    {
     "data": {
      "text/html": [
       " View run at <a href='https://wandb.ai/undark/VT3e/runs/m1uru534' target=\"_blank\">https://wandb.ai/undark/VT3e/runs/m1uru534</a>"
      ],
      "text/plain": [
       "<IPython.core.display.HTML object>"
      ]
     },
     "metadata": {},
     "output_type": "display_data"
    },
    {
     "name": "stderr",
     "output_type": "stream",
     "text": [
      "/home/weniger/.conda/envs/lensing/lib/python3.9/site-packages/pytorch_lightning/loggers/wandb.py:395: UserWarning: There is a wandb run already in progress and newly created instances of `WandbLogger` will reuse this run. If this is not desired, call `wandb.finish()` before instantiating `WandbLogger`.\n",
      "  rank_zero_warn(\n"
     ]
    },
    {
     "data": {
      "application/vnd.jupyter.widget-view+json": {
       "model_id": "9cc1874348874a0696827514c8bdd47d",
       "version_major": 2,
       "version_minor": 0
      },
      "text/plain": [
       "  0%|          | 0/1000 [00:00<?, ?it/s]"
      ]
     },
     "metadata": {},
     "output_type": "display_data"
    },
    {
     "name": "stderr",
     "output_type": "stream",
     "text": [
      "/tmp/ipykernel_1402571/726762477.py:28: UserWarning: To copy construct from a tensor, it is recommended to use sourceTensor.clone().detach() or sourceTensor.clone().detach().requires_grad_(True), rather than torch.tensor(sourceTensor).\n",
      "  rho = graph.node(\"rho\", lambda delta: up2d(down2d(torch.tensor(delta))), delta)\n",
      "/home/weniger/.conda/envs/lensing/lib/python3.9/site-packages/torch/nn/modules/lazy.py:180: UserWarning: Lazy modules are a new feature under heavy development so changes to the API or functionality can happen at any moment.\n",
      "  warnings.warn('Lazy modules are a new feature under heavy development '\n",
      "/home/weniger/.conda/envs/lensing/lib/python3.9/site-packages/lightning_fabric/plugins/environments/slurm.py:166: PossibleUserWarning: The `srun` command is available on your system but is not used. HINT: If your intention is to run Lightning on SLURM, prepend your python command with `srun` like so: srun python /home/weniger/.conda/envs/lensing/lib/python3.9/site ...\n",
      "  rank_zero_warn(\n",
      "GPU available: True (cuda), used: True\n",
      "TPU available: False, using: 0 TPU cores\n",
      "IPU available: False, using: 0 IPUs\n",
      "HPU available: False, using: 0 HPUs\n",
      "The following callbacks returned in `LightningModule.configure_callbacks` will override existing callbacks passed to Trainer: ModelCheckpoint\n",
      "LOCAL_RANK: 0 - CUDA_VISIBLE_DEVICES: [0]\n",
      "\n",
      "  | Name  | Type                                             | Params\n",
      "---------------------------------------------------------------------------\n",
      "0 | lre   | LogRatioEstimator_Gaussian_Autoregressive_Egmond | 0     \n",
      "1 | unet  | UNet                                             | 1.9 M \n",
      "2 | norm1 | LazyBatchNorm2d                                  | 0     \n",
      "3 | norm  | OnlineStandardizingLayer                         | 0     \n",
      "---------------------------------------------------------------------------\n",
      "1.9 M     Trainable params\n",
      "0         Non-trainable params\n",
      "1.9 M     Total params\n",
      "7.769     Total estimated model params size (MB)\n"
     ]
    },
    {
     "data": {
      "application/vnd.jupyter.widget-view+json": {
       "model_id": "",
       "version_major": 2,
       "version_minor": 0
      },
      "text/plain": [
       "Sanity Checking: 0it [00:00, ?it/s]"
      ]
     },
     "metadata": {},
     "output_type": "display_data"
    },
    {
     "name": "stderr",
     "output_type": "stream",
     "text": [
      "/home/weniger/.conda/envs/lensing/lib/python3.9/site-packages/pytorch_lightning/trainer/connectors/data_connector.py:224: PossibleUserWarning: The dataloader, val_dataloader 0, does not have many workers which may be a bottleneck. Consider increasing the value of the `num_workers` argument` (try 72 which is the number of cpus on this machine) in the `DataLoader` init to improve performance.\n",
      "  rank_zero_warn(\n",
      "/home/weniger/.conda/envs/lensing/lib/python3.9/site-packages/pytorch_lightning/trainer/connectors/data_connector.py:224: PossibleUserWarning: The dataloader, train_dataloader, does not have many workers which may be a bottleneck. Consider increasing the value of the `num_workers` argument` (try 72 which is the number of cpus on this machine) in the `DataLoader` init to improve performance.\n",
      "  rank_zero_warn(\n",
      "/home/weniger/.conda/envs/lensing/lib/python3.9/site-packages/pytorch_lightning/trainer/trainer.py:1600: PossibleUserWarning: The number of training batches (13) is smaller than the logging interval Trainer(log_every_n_steps=50). Set a lower value for log_every_n_steps if you want to see logs for the training epoch.\n",
      "  rank_zero_warn(\n"
     ]
    },
    {
     "data": {
      "application/vnd.jupyter.widget-view+json": {
       "model_id": "160fbd0a422a41ae8e4a42c6fe07c655",
       "version_major": 2,
       "version_minor": 0
      },
      "text/plain": [
       "Training: 0it [00:00, ?it/s]"
      ]
     },
     "metadata": {},
     "output_type": "display_data"
    },
    {
     "data": {
      "application/vnd.jupyter.widget-view+json": {
       "model_id": "",
       "version_major": 2,
       "version_minor": 0
      },
      "text/plain": [
       "Validation: 0it [00:00, ?it/s]"
      ]
     },
     "metadata": {},
     "output_type": "display_data"
    },
    {
     "data": {
      "application/vnd.jupyter.widget-view+json": {
       "model_id": "",
       "version_major": 2,
       "version_minor": 0
      },
      "text/plain": [
       "Validation: 0it [00:00, ?it/s]"
      ]
     },
     "metadata": {},
     "output_type": "display_data"
    },
    {
     "data": {
      "application/vnd.jupyter.widget-view+json": {
       "model_id": "",
       "version_major": 2,
       "version_minor": 0
      },
      "text/plain": [
       "Validation: 0it [00:00, ?it/s]"
      ]
     },
     "metadata": {},
     "output_type": "display_data"
    },
    {
     "data": {
      "application/vnd.jupyter.widget-view+json": {
       "model_id": "",
       "version_major": 2,
       "version_minor": 0
      },
      "text/plain": [
       "Validation: 0it [00:00, ?it/s]"
      ]
     },
     "metadata": {},
     "output_type": "display_data"
    },
    {
     "data": {
      "application/vnd.jupyter.widget-view+json": {
       "model_id": "",
       "version_major": 2,
       "version_minor": 0
      },
      "text/plain": [
       "Validation: 0it [00:00, ?it/s]"
      ]
     },
     "metadata": {},
     "output_type": "display_data"
    },
    {
     "data": {
      "application/vnd.jupyter.widget-view+json": {
       "model_id": "",
       "version_major": 2,
       "version_minor": 0
      },
      "text/plain": [
       "Validation: 0it [00:00, ?it/s]"
      ]
     },
     "metadata": {},
     "output_type": "display_data"
    },
    {
     "data": {
      "application/vnd.jupyter.widget-view+json": {
       "model_id": "",
       "version_major": 2,
       "version_minor": 0
      },
      "text/plain": [
       "Validation: 0it [00:00, ?it/s]"
      ]
     },
     "metadata": {},
     "output_type": "display_data"
    },
    {
     "data": {
      "application/vnd.jupyter.widget-view+json": {
       "model_id": "",
       "version_major": 2,
       "version_minor": 0
      },
      "text/plain": [
       "Validation: 0it [00:00, ?it/s]"
      ]
     },
     "metadata": {},
     "output_type": "display_data"
    },
    {
     "data": {
      "application/vnd.jupyter.widget-view+json": {
       "model_id": "",
       "version_major": 2,
       "version_minor": 0
      },
      "text/plain": [
       "Validation: 0it [00:00, ?it/s]"
      ]
     },
     "metadata": {},
     "output_type": "display_data"
    },
    {
     "data": {
      "application/vnd.jupyter.widget-view+json": {
       "model_id": "",
       "version_major": 2,
       "version_minor": 0
      },
      "text/plain": [
       "Validation: 0it [00:00, ?it/s]"
      ]
     },
     "metadata": {},
     "output_type": "display_data"
    },
    {
     "data": {
      "application/vnd.jupyter.widget-view+json": {
       "model_id": "",
       "version_major": 2,
       "version_minor": 0
      },
      "text/plain": [
       "Validation: 0it [00:00, ?it/s]"
      ]
     },
     "metadata": {},
     "output_type": "display_data"
    },
    {
     "data": {
      "application/vnd.jupyter.widget-view+json": {
       "model_id": "",
       "version_major": 2,
       "version_minor": 0
      },
      "text/plain": [
       "Validation: 0it [00:00, ?it/s]"
      ]
     },
     "metadata": {},
     "output_type": "display_data"
    },
    {
     "data": {
      "application/vnd.jupyter.widget-view+json": {
       "model_id": "",
       "version_major": 2,
       "version_minor": 0
      },
      "text/plain": [
       "Validation: 0it [00:00, ?it/s]"
      ]
     },
     "metadata": {},
     "output_type": "display_data"
    },
    {
     "data": {
      "application/vnd.jupyter.widget-view+json": {
       "model_id": "",
       "version_major": 2,
       "version_minor": 0
      },
      "text/plain": [
       "Validation: 0it [00:00, ?it/s]"
      ]
     },
     "metadata": {},
     "output_type": "display_data"
    },
    {
     "data": {
      "application/vnd.jupyter.widget-view+json": {
       "model_id": "",
       "version_major": 2,
       "version_minor": 0
      },
      "text/plain": [
       "Validation: 0it [00:00, ?it/s]"
      ]
     },
     "metadata": {},
     "output_type": "display_data"
    },
    {
     "data": {
      "application/vnd.jupyter.widget-view+json": {
       "model_id": "",
       "version_major": 2,
       "version_minor": 0
      },
      "text/plain": [
       "Validation: 0it [00:00, ?it/s]"
      ]
     },
     "metadata": {},
     "output_type": "display_data"
    },
    {
     "data": {
      "application/vnd.jupyter.widget-view+json": {
       "model_id": "",
       "version_major": 2,
       "version_minor": 0
      },
      "text/plain": [
       "Validation: 0it [00:00, ?it/s]"
      ]
     },
     "metadata": {},
     "output_type": "display_data"
    },
    {
     "data": {
      "application/vnd.jupyter.widget-view+json": {
       "model_id": "",
       "version_major": 2,
       "version_minor": 0
      },
      "text/plain": [
       "Validation: 0it [00:00, ?it/s]"
      ]
     },
     "metadata": {},
     "output_type": "display_data"
    },
    {
     "data": {
      "application/vnd.jupyter.widget-view+json": {
       "model_id": "",
       "version_major": 2,
       "version_minor": 0
      },
      "text/plain": [
       "Validation: 0it [00:00, ?it/s]"
      ]
     },
     "metadata": {},
     "output_type": "display_data"
    },
    {
     "data": {
      "application/vnd.jupyter.widget-view+json": {
       "model_id": "",
       "version_major": 2,
       "version_minor": 0
      },
      "text/plain": [
       "Validation: 0it [00:00, ?it/s]"
      ]
     },
     "metadata": {},
     "output_type": "display_data"
    },
    {
     "data": {
      "application/vnd.jupyter.widget-view+json": {
       "model_id": "",
       "version_major": 2,
       "version_minor": 0
      },
      "text/plain": [
       "Validation: 0it [00:00, ?it/s]"
      ]
     },
     "metadata": {},
     "output_type": "display_data"
    },
    {
     "data": {
      "application/vnd.jupyter.widget-view+json": {
       "model_id": "",
       "version_major": 2,
       "version_minor": 0
      },
      "text/plain": [
       "Validation: 0it [00:00, ?it/s]"
      ]
     },
     "metadata": {},
     "output_type": "display_data"
    },
    {
     "data": {
      "application/vnd.jupyter.widget-view+json": {
       "model_id": "",
       "version_major": 2,
       "version_minor": 0
      },
      "text/plain": [
       "Validation: 0it [00:00, ?it/s]"
      ]
     },
     "metadata": {},
     "output_type": "display_data"
    },
    {
     "data": {
      "application/vnd.jupyter.widget-view+json": {
       "model_id": "",
       "version_major": 2,
       "version_minor": 0
      },
      "text/plain": [
       "Validation: 0it [00:00, ?it/s]"
      ]
     },
     "metadata": {},
     "output_type": "display_data"
    },
    {
     "data": {
      "application/vnd.jupyter.widget-view+json": {
       "model_id": "",
       "version_major": 2,
       "version_minor": 0
      },
      "text/plain": [
       "Validation: 0it [00:00, ?it/s]"
      ]
     },
     "metadata": {},
     "output_type": "display_data"
    },
    {
     "data": {
      "application/vnd.jupyter.widget-view+json": {
       "model_id": "",
       "version_major": 2,
       "version_minor": 0
      },
      "text/plain": [
       "Validation: 0it [00:00, ?it/s]"
      ]
     },
     "metadata": {},
     "output_type": "display_data"
    },
    {
     "data": {
      "application/vnd.jupyter.widget-view+json": {
       "model_id": "",
       "version_major": 2,
       "version_minor": 0
      },
      "text/plain": [
       "Validation: 0it [00:00, ?it/s]"
      ]
     },
     "metadata": {},
     "output_type": "display_data"
    },
    {
     "data": {
      "application/vnd.jupyter.widget-view+json": {
       "model_id": "",
       "version_major": 2,
       "version_minor": 0
      },
      "text/plain": [
       "Validation: 0it [00:00, ?it/s]"
      ]
     },
     "metadata": {},
     "output_type": "display_data"
    },
    {
     "data": {
      "application/vnd.jupyter.widget-view+json": {
       "model_id": "",
       "version_major": 2,
       "version_minor": 0
      },
      "text/plain": [
       "Validation: 0it [00:00, ?it/s]"
      ]
     },
     "metadata": {},
     "output_type": "display_data"
    },
    {
     "data": {
      "application/vnd.jupyter.widget-view+json": {
       "model_id": "",
       "version_major": 2,
       "version_minor": 0
      },
      "text/plain": [
       "Validation: 0it [00:00, ?it/s]"
      ]
     },
     "metadata": {},
     "output_type": "display_data"
    },
    {
     "data": {
      "application/vnd.jupyter.widget-view+json": {
       "model_id": "",
       "version_major": 2,
       "version_minor": 0
      },
      "text/plain": [
       "Validation: 0it [00:00, ?it/s]"
      ]
     },
     "metadata": {},
     "output_type": "display_data"
    },
    {
     "data": {
      "application/vnd.jupyter.widget-view+json": {
       "model_id": "",
       "version_major": 2,
       "version_minor": 0
      },
      "text/plain": [
       "Validation: 0it [00:00, ?it/s]"
      ]
     },
     "metadata": {},
     "output_type": "display_data"
    },
    {
     "data": {
      "application/vnd.jupyter.widget-view+json": {
       "model_id": "",
       "version_major": 2,
       "version_minor": 0
      },
      "text/plain": [
       "Validation: 0it [00:00, ?it/s]"
      ]
     },
     "metadata": {},
     "output_type": "display_data"
    },
    {
     "data": {
      "application/vnd.jupyter.widget-view+json": {
       "model_id": "",
       "version_major": 2,
       "version_minor": 0
      },
      "text/plain": [
       "Validation: 0it [00:00, ?it/s]"
      ]
     },
     "metadata": {},
     "output_type": "display_data"
    },
    {
     "data": {
      "application/vnd.jupyter.widget-view+json": {
       "model_id": "",
       "version_major": 2,
       "version_minor": 0
      },
      "text/plain": [
       "Validation: 0it [00:00, ?it/s]"
      ]
     },
     "metadata": {},
     "output_type": "display_data"
    },
    {
     "data": {
      "application/vnd.jupyter.widget-view+json": {
       "model_id": "",
       "version_major": 2,
       "version_minor": 0
      },
      "text/plain": [
       "Validation: 0it [00:00, ?it/s]"
      ]
     },
     "metadata": {},
     "output_type": "display_data"
    },
    {
     "data": {
      "application/vnd.jupyter.widget-view+json": {
       "model_id": "",
       "version_major": 2,
       "version_minor": 0
      },
      "text/plain": [
       "Validation: 0it [00:00, ?it/s]"
      ]
     },
     "metadata": {},
     "output_type": "display_data"
    },
    {
     "data": {
      "application/vnd.jupyter.widget-view+json": {
       "model_id": "",
       "version_major": 2,
       "version_minor": 0
      },
      "text/plain": [
       "Validation: 0it [00:00, ?it/s]"
      ]
     },
     "metadata": {},
     "output_type": "display_data"
    },
    {
     "data": {
      "application/vnd.jupyter.widget-view+json": {
       "model_id": "",
       "version_major": 2,
       "version_minor": 0
      },
      "text/plain": [
       "Validation: 0it [00:00, ?it/s]"
      ]
     },
     "metadata": {},
     "output_type": "display_data"
    },
    {
     "data": {
      "application/vnd.jupyter.widget-view+json": {
       "model_id": "",
       "version_major": 2,
       "version_minor": 0
      },
      "text/plain": [
       "Validation: 0it [00:00, ?it/s]"
      ]
     },
     "metadata": {},
     "output_type": "display_data"
    },
    {
     "data": {
      "application/vnd.jupyter.widget-view+json": {
       "model_id": "",
       "version_major": 2,
       "version_minor": 0
      },
      "text/plain": [
       "Validation: 0it [00:00, ?it/s]"
      ]
     },
     "metadata": {},
     "output_type": "display_data"
    },
    {
     "data": {
      "application/vnd.jupyter.widget-view+json": {
       "model_id": "",
       "version_major": 2,
       "version_minor": 0
      },
      "text/plain": [
       "Validation: 0it [00:00, ?it/s]"
      ]
     },
     "metadata": {},
     "output_type": "display_data"
    },
    {
     "data": {
      "application/vnd.jupyter.widget-view+json": {
       "model_id": "",
       "version_major": 2,
       "version_minor": 0
      },
      "text/plain": [
       "Validation: 0it [00:00, ?it/s]"
      ]
     },
     "metadata": {},
     "output_type": "display_data"
    },
    {
     "data": {
      "application/vnd.jupyter.widget-view+json": {
       "model_id": "",
       "version_major": 2,
       "version_minor": 0
      },
      "text/plain": [
       "Validation: 0it [00:00, ?it/s]"
      ]
     },
     "metadata": {},
     "output_type": "display_data"
    },
    {
     "data": {
      "application/vnd.jupyter.widget-view+json": {
       "model_id": "",
       "version_major": 2,
       "version_minor": 0
      },
      "text/plain": [
       "Validation: 0it [00:00, ?it/s]"
      ]
     },
     "metadata": {},
     "output_type": "display_data"
    },
    {
     "data": {
      "application/vnd.jupyter.widget-view+json": {
       "model_id": "",
       "version_major": 2,
       "version_minor": 0
      },
      "text/plain": [
       "Validation: 0it [00:00, ?it/s]"
      ]
     },
     "metadata": {},
     "output_type": "display_data"
    },
    {
     "data": {
      "application/vnd.jupyter.widget-view+json": {
       "model_id": "",
       "version_major": 2,
       "version_minor": 0
      },
      "text/plain": [
       "Validation: 0it [00:00, ?it/s]"
      ]
     },
     "metadata": {},
     "output_type": "display_data"
    },
    {
     "data": {
      "application/vnd.jupyter.widget-view+json": {
       "model_id": "",
       "version_major": 2,
       "version_minor": 0
      },
      "text/plain": [
       "Validation: 0it [00:00, ?it/s]"
      ]
     },
     "metadata": {},
     "output_type": "display_data"
    },
    {
     "data": {
      "application/vnd.jupyter.widget-view+json": {
       "model_id": "",
       "version_major": 2,
       "version_minor": 0
      },
      "text/plain": [
       "Validation: 0it [00:00, ?it/s]"
      ]
     },
     "metadata": {},
     "output_type": "display_data"
    },
    {
     "data": {
      "application/vnd.jupyter.widget-view+json": {
       "model_id": "",
       "version_major": 2,
       "version_minor": 0
      },
      "text/plain": [
       "Validation: 0it [00:00, ?it/s]"
      ]
     },
     "metadata": {},
     "output_type": "display_data"
    },
    {
     "data": {
      "application/vnd.jupyter.widget-view+json": {
       "model_id": "",
       "version_major": 2,
       "version_minor": 0
      },
      "text/plain": [
       "Validation: 0it [00:00, ?it/s]"
      ]
     },
     "metadata": {},
     "output_type": "display_data"
    },
    {
     "data": {
      "application/vnd.jupyter.widget-view+json": {
       "model_id": "",
       "version_major": 2,
       "version_minor": 0
      },
      "text/plain": [
       "Validation: 0it [00:00, ?it/s]"
      ]
     },
     "metadata": {},
     "output_type": "display_data"
    },
    {
     "data": {
      "application/vnd.jupyter.widget-view+json": {
       "model_id": "",
       "version_major": 2,
       "version_minor": 0
      },
      "text/plain": [
       "Validation: 0it [00:00, ?it/s]"
      ]
     },
     "metadata": {},
     "output_type": "display_data"
    },
    {
     "data": {
      "application/vnd.jupyter.widget-view+json": {
       "model_id": "",
       "version_major": 2,
       "version_minor": 0
      },
      "text/plain": [
       "Validation: 0it [00:00, ?it/s]"
      ]
     },
     "metadata": {},
     "output_type": "display_data"
    },
    {
     "data": {
      "application/vnd.jupyter.widget-view+json": {
       "model_id": "",
       "version_major": 2,
       "version_minor": 0
      },
      "text/plain": [
       "Validation: 0it [00:00, ?it/s]"
      ]
     },
     "metadata": {},
     "output_type": "display_data"
    },
    {
     "data": {
      "application/vnd.jupyter.widget-view+json": {
       "model_id": "",
       "version_major": 2,
       "version_minor": 0
      },
      "text/plain": [
       "Validation: 0it [00:00, ?it/s]"
      ]
     },
     "metadata": {},
     "output_type": "display_data"
    },
    {
     "data": {
      "application/vnd.jupyter.widget-view+json": {
       "model_id": "",
       "version_major": 2,
       "version_minor": 0
      },
      "text/plain": [
       "Validation: 0it [00:00, ?it/s]"
      ]
     },
     "metadata": {},
     "output_type": "display_data"
    },
    {
     "data": {
      "application/vnd.jupyter.widget-view+json": {
       "model_id": "",
       "version_major": 2,
       "version_minor": 0
      },
      "text/plain": [
       "Validation: 0it [00:00, ?it/s]"
      ]
     },
     "metadata": {},
     "output_type": "display_data"
    },
    {
     "data": {
      "application/vnd.jupyter.widget-view+json": {
       "model_id": "",
       "version_major": 2,
       "version_minor": 0
      },
      "text/plain": [
       "Validation: 0it [00:00, ?it/s]"
      ]
     },
     "metadata": {},
     "output_type": "display_data"
    },
    {
     "data": {
      "application/vnd.jupyter.widget-view+json": {
       "model_id": "",
       "version_major": 2,
       "version_minor": 0
      },
      "text/plain": [
       "Validation: 0it [00:00, ?it/s]"
      ]
     },
     "metadata": {},
     "output_type": "display_data"
    },
    {
     "data": {
      "application/vnd.jupyter.widget-view+json": {
       "model_id": "",
       "version_major": 2,
       "version_minor": 0
      },
      "text/plain": [
       "Validation: 0it [00:00, ?it/s]"
      ]
     },
     "metadata": {},
     "output_type": "display_data"
    },
    {
     "data": {
      "application/vnd.jupyter.widget-view+json": {
       "model_id": "",
       "version_major": 2,
       "version_minor": 0
      },
      "text/plain": [
       "Validation: 0it [00:00, ?it/s]"
      ]
     },
     "metadata": {},
     "output_type": "display_data"
    },
    {
     "data": {
      "application/vnd.jupyter.widget-view+json": {
       "model_id": "",
       "version_major": 2,
       "version_minor": 0
      },
      "text/plain": [
       "Validation: 0it [00:00, ?it/s]"
      ]
     },
     "metadata": {},
     "output_type": "display_data"
    },
    {
     "data": {
      "application/vnd.jupyter.widget-view+json": {
       "model_id": "",
       "version_major": 2,
       "version_minor": 0
      },
      "text/plain": [
       "Validation: 0it [00:00, ?it/s]"
      ]
     },
     "metadata": {},
     "output_type": "display_data"
    },
    {
     "data": {
      "application/vnd.jupyter.widget-view+json": {
       "model_id": "",
       "version_major": 2,
       "version_minor": 0
      },
      "text/plain": [
       "Validation: 0it [00:00, ?it/s]"
      ]
     },
     "metadata": {},
     "output_type": "display_data"
    },
    {
     "data": {
      "application/vnd.jupyter.widget-view+json": {
       "model_id": "",
       "version_major": 2,
       "version_minor": 0
      },
      "text/plain": [
       "Validation: 0it [00:00, ?it/s]"
      ]
     },
     "metadata": {},
     "output_type": "display_data"
    },
    {
     "data": {
      "application/vnd.jupyter.widget-view+json": {
       "model_id": "",
       "version_major": 2,
       "version_minor": 0
      },
      "text/plain": [
       "Validation: 0it [00:00, ?it/s]"
      ]
     },
     "metadata": {},
     "output_type": "display_data"
    },
    {
     "data": {
      "application/vnd.jupyter.widget-view+json": {
       "model_id": "",
       "version_major": 2,
       "version_minor": 0
      },
      "text/plain": [
       "Validation: 0it [00:00, ?it/s]"
      ]
     },
     "metadata": {},
     "output_type": "display_data"
    },
    {
     "data": {
      "application/vnd.jupyter.widget-view+json": {
       "model_id": "",
       "version_major": 2,
       "version_minor": 0
      },
      "text/plain": [
       "Validation: 0it [00:00, ?it/s]"
      ]
     },
     "metadata": {},
     "output_type": "display_data"
    },
    {
     "data": {
      "application/vnd.jupyter.widget-view+json": {
       "model_id": "",
       "version_major": 2,
       "version_minor": 0
      },
      "text/plain": [
       "Validation: 0it [00:00, ?it/s]"
      ]
     },
     "metadata": {},
     "output_type": "display_data"
    },
    {
     "data": {
      "application/vnd.jupyter.widget-view+json": {
       "model_id": "",
       "version_major": 2,
       "version_minor": 0
      },
      "text/plain": [
       "Validation: 0it [00:00, ?it/s]"
      ]
     },
     "metadata": {},
     "output_type": "display_data"
    },
    {
     "data": {
      "application/vnd.jupyter.widget-view+json": {
       "model_id": "",
       "version_major": 2,
       "version_minor": 0
      },
      "text/plain": [
       "Validation: 0it [00:00, ?it/s]"
      ]
     },
     "metadata": {},
     "output_type": "display_data"
    },
    {
     "data": {
      "application/vnd.jupyter.widget-view+json": {
       "model_id": "",
       "version_major": 2,
       "version_minor": 0
      },
      "text/plain": [
       "Validation: 0it [00:00, ?it/s]"
      ]
     },
     "metadata": {},
     "output_type": "display_data"
    },
    {
     "data": {
      "application/vnd.jupyter.widget-view+json": {
       "model_id": "",
       "version_major": 2,
       "version_minor": 0
      },
      "text/plain": [
       "Validation: 0it [00:00, ?it/s]"
      ]
     },
     "metadata": {},
     "output_type": "display_data"
    },
    {
     "data": {
      "application/vnd.jupyter.widget-view+json": {
       "model_id": "",
       "version_major": 2,
       "version_minor": 0
      },
      "text/plain": [
       "Validation: 0it [00:00, ?it/s]"
      ]
     },
     "metadata": {},
     "output_type": "display_data"
    },
    {
     "data": {
      "application/vnd.jupyter.widget-view+json": {
       "model_id": "",
       "version_major": 2,
       "version_minor": 0
      },
      "text/plain": [
       "Validation: 0it [00:00, ?it/s]"
      ]
     },
     "metadata": {},
     "output_type": "display_data"
    },
    {
     "data": {
      "application/vnd.jupyter.widget-view+json": {
       "model_id": "",
       "version_major": 2,
       "version_minor": 0
      },
      "text/plain": [
       "Validation: 0it [00:00, ?it/s]"
      ]
     },
     "metadata": {},
     "output_type": "display_data"
    },
    {
     "data": {
      "application/vnd.jupyter.widget-view+json": {
       "model_id": "",
       "version_major": 2,
       "version_minor": 0
      },
      "text/plain": [
       "Validation: 0it [00:00, ?it/s]"
      ]
     },
     "metadata": {},
     "output_type": "display_data"
    },
    {
     "data": {
      "application/vnd.jupyter.widget-view+json": {
       "model_id": "",
       "version_major": 2,
       "version_minor": 0
      },
      "text/plain": [
       "Validation: 0it [00:00, ?it/s]"
      ]
     },
     "metadata": {},
     "output_type": "display_data"
    },
    {
     "data": {
      "application/vnd.jupyter.widget-view+json": {
       "model_id": "",
       "version_major": 2,
       "version_minor": 0
      },
      "text/plain": [
       "Validation: 0it [00:00, ?it/s]"
      ]
     },
     "metadata": {},
     "output_type": "display_data"
    },
    {
     "data": {
      "application/vnd.jupyter.widget-view+json": {
       "model_id": "",
       "version_major": 2,
       "version_minor": 0
      },
      "text/plain": [
       "Validation: 0it [00:00, ?it/s]"
      ]
     },
     "metadata": {},
     "output_type": "display_data"
    },
    {
     "data": {
      "application/vnd.jupyter.widget-view+json": {
       "model_id": "",
       "version_major": 2,
       "version_minor": 0
      },
      "text/plain": [
       "Validation: 0it [00:00, ?it/s]"
      ]
     },
     "metadata": {},
     "output_type": "display_data"
    },
    {
     "data": {
      "application/vnd.jupyter.widget-view+json": {
       "model_id": "",
       "version_major": 2,
       "version_minor": 0
      },
      "text/plain": [
       "Validation: 0it [00:00, ?it/s]"
      ]
     },
     "metadata": {},
     "output_type": "display_data"
    },
    {
     "data": {
      "application/vnd.jupyter.widget-view+json": {
       "model_id": "",
       "version_major": 2,
       "version_minor": 0
      },
      "text/plain": [
       "Validation: 0it [00:00, ?it/s]"
      ]
     },
     "metadata": {},
     "output_type": "display_data"
    },
    {
     "data": {
      "application/vnd.jupyter.widget-view+json": {
       "model_id": "",
       "version_major": 2,
       "version_minor": 0
      },
      "text/plain": [
       "Validation: 0it [00:00, ?it/s]"
      ]
     },
     "metadata": {},
     "output_type": "display_data"
    },
    {
     "data": {
      "application/vnd.jupyter.widget-view+json": {
       "model_id": "",
       "version_major": 2,
       "version_minor": 0
      },
      "text/plain": [
       "Validation: 0it [00:00, ?it/s]"
      ]
     },
     "metadata": {},
     "output_type": "display_data"
    },
    {
     "data": {
      "application/vnd.jupyter.widget-view+json": {
       "model_id": "",
       "version_major": 2,
       "version_minor": 0
      },
      "text/plain": [
       "Validation: 0it [00:00, ?it/s]"
      ]
     },
     "metadata": {},
     "output_type": "display_data"
    },
    {
     "data": {
      "application/vnd.jupyter.widget-view+json": {
       "model_id": "",
       "version_major": 2,
       "version_minor": 0
      },
      "text/plain": [
       "Validation: 0it [00:00, ?it/s]"
      ]
     },
     "metadata": {},
     "output_type": "display_data"
    },
    {
     "data": {
      "application/vnd.jupyter.widget-view+json": {
       "model_id": "",
       "version_major": 2,
       "version_minor": 0
      },
      "text/plain": [
       "Validation: 0it [00:00, ?it/s]"
      ]
     },
     "metadata": {},
     "output_type": "display_data"
    },
    {
     "data": {
      "application/vnd.jupyter.widget-view+json": {
       "model_id": "",
       "version_major": 2,
       "version_minor": 0
      },
      "text/plain": [
       "Validation: 0it [00:00, ?it/s]"
      ]
     },
     "metadata": {},
     "output_type": "display_data"
    },
    {
     "data": {
      "application/vnd.jupyter.widget-view+json": {
       "model_id": "",
       "version_major": 2,
       "version_minor": 0
      },
      "text/plain": [
       "Validation: 0it [00:00, ?it/s]"
      ]
     },
     "metadata": {},
     "output_type": "display_data"
    },
    {
     "data": {
      "application/vnd.jupyter.widget-view+json": {
       "model_id": "",
       "version_major": 2,
       "version_minor": 0
      },
      "text/plain": [
       "Validation: 0it [00:00, ?it/s]"
      ]
     },
     "metadata": {},
     "output_type": "display_data"
    },
    {
     "name": "stdout",
     "output_type": "stream",
     "text": [
      "Reloading best model: ./lightning_logs/m1uru534/checkpoints/epoch=86-step=1131.ckpt\n"
     ]
    },
    {
     "name": "stderr",
     "output_type": "stream",
     "text": [
      "100%|███████████████████████████████████████████████████████████████████████████████████████████████████| 100/100 [00:41<00:00,  2.43it/s]\n"
     ]
    },
    {
     "name": "stdout",
     "output_type": "stream",
     "text": [
      "-1.5169667 1.9254776 -2.84135490131505 2.702825755142043\n",
      "Residual percentiles: [-1.7056887  -0.89024329 -0.03443692  0.86251119  1.64045166]\n",
      "Mean posterior std per pixel: 0.634350511557711\n"
     ]
    },
    {
     "data": {
      "application/vnd.jupyter.widget-view+json": {
       "model_id": "52afb676f1af4e85bc2d01119a9d76bb",
       "version_major": 2,
       "version_minor": 0
      },
      "text/plain": [
       "  0%|          | 0/100 [00:00<?, ?it/s]"
      ]
     },
     "metadata": {},
     "output_type": "display_data"
    },
    {
     "data": {
      "text/html": [
       "Waiting for W&B process to finish... <strong style=\"color:green\">(success).</strong>"
      ],
      "text/plain": [
       "<IPython.core.display.HTML object>"
      ]
     },
     "metadata": {},
     "output_type": "display_data"
    },
    {
     "data": {
      "text/html": [
       "<style>\n",
       "    table.wandb td:nth-child(1) { padding: 0 10px; text-align: left ; width: auto;} td:nth-child(2) {text-align: left ; width: 100%}\n",
       "    .wandb-row { display: flex; flex-direction: row; flex-wrap: wrap; justify-content: flex-start; width: 100% }\n",
       "    .wandb-col { display: flex; flex-direction: column; flex-basis: 100%; flex: 1; padding: 10px; }\n",
       "    </style>\n",
       "<div class=\"wandb-row\"><div class=\"wandb-col\"><h3>Run history:</h3><br/><table class=\"wandb\"><tr><td>epoch</td><td>▁▁▁▂▂▂▂▂▂▃▃▃▃▃▃▄▄▄▄▄▅▅▅▅▅▅▆▆▆▆▆▇▇▇▇▇▇███</td></tr><tr><td>train_loss</td><td>████▇▆▅▄▃▃▂▂▂▂▂▁▁▁▁▁▁▁▁</td></tr><tr><td>trainer/global_step</td><td>▁▁▁▂▂▂▂▂▂▃▃▃▃▃▃▄▄▄▄▄▅▅▅▅▅▅▆▆▆▆▆▇▇▇▇▇▇███</td></tr><tr><td>val_loss</td><td>████████▇▇▆▅▄▄▃▃▃▃▂▂▂▂▂▂▂▂▁▁▁▁▁▁▁▁▁▁▁▁▁▁</td></tr></table><br/></div><div class=\"wandb-col\"><h3>Run summary:</h3><br/><table class=\"wandb\"><tr><td>epoch</td><td>91</td></tr><tr><td>train_loss</td><td>-645.07323</td></tr><tr><td>trainer/global_step</td><td>1195</td></tr><tr><td>val_loss</td><td>-578.8403</td></tr></table><br/></div></div>"
      ],
      "text/plain": [
       "<IPython.core.display.HTML object>"
      ]
     },
     "metadata": {},
     "output_type": "display_data"
    },
    {
     "data": {
      "text/html": [
       " View run <strong style=\"color:#cdcd00\">round0</strong> at: <a href='https://wandb.ai/undark/VT3e/runs/m1uru534' target=\"_blank\">https://wandb.ai/undark/VT3e/runs/m1uru534</a><br/> View job at <a href='https://wandb.ai/undark/VT3e/jobs/QXJ0aWZhY3RDb2xsZWN0aW9uOjEwMjQyNjE0OA==/version_details/v0' target=\"_blank\">https://wandb.ai/undark/VT3e/jobs/QXJ0aWZhY3RDb2xsZWN0aW9uOjEwMjQyNjE0OA==/version_details/v0</a><br/>Synced 6 W&B file(s), 5 media file(s), 71 artifact file(s) and 0 other file(s)"
      ],
      "text/plain": [
       "<IPython.core.display.HTML object>"
      ]
     },
     "metadata": {},
     "output_type": "display_data"
    },
    {
     "data": {
      "text/html": [
       "Find logs at: <code>./wandb/run-20230929_150921-m1uru534/logs</code>"
      ],
      "text/plain": [
       "<IPython.core.display.HTML object>"
      ]
     },
     "metadata": {},
     "output_type": "display_data"
    },
    {
     "data": {
      "image/png": "[encoded data removed]",
      "text/plain": [
       "<Figure size 1500x500 with 16 Axes>"
      ]
     },
     "metadata": {},
     "output_type": "display_data"
    },
    {
     "data": {
      "image/png": "[encoded data removed]",
      "text/plain": [
       "<Figure size 500x500 with 1 Axes>"
      ]
     },
     "metadata": {},
     "output_type": "display_data"
    },
    {
     "data": {
      "image/png": "[encoded data removed]",
      "text/plain": [
       "<Figure size 500x500 with 1 Axes>"
      ]
     },
     "metadata": {},
     "output_type": "display_data"
    },
    {
     "data": {
      "image/png": "[encoded data removed]",
      "text/plain": [
       "<Figure size 500x500 with 1 Axes>"
      ]
     },
     "metadata": {},
     "output_type": "display_data"
    },
    {
     "data": {
      "image/png": "[encoded data removed]",
      "text/plain": [
       "<Figure size 500x500 with 1 Axes>"
      ]
     },
     "metadata": {},
     "output_type": "display_data"
    }
   ],
   "source": [
    "bounds_delta_x = None\n",
    "\n",
    "for i, GAMMA in enumerate([1e0]):\n",
    "    wandb.init(reinit = True, project = 'VT3e', group = 'experiment_11', name = 'round%i'%i)\n",
    "    wandb_logger = WandbLogger(log_model='all')\n",
    "    sim, samples = get_samples(n_sims = 1000, bounds = bounds_delta_x)\n",
    "    trained_delta_x = train_delta_x(samples, max_epochs = 100, logger = wandb_logger)\n",
    "    bounds_delta_x = infer_delta_x(sample0, sim, *trained_delta_x, n_draws = 100, gamma = GAMMA, steps = 300, logger = wandb_logger)\n",
    "    wandb.finish()"
   ]
  },
  {
   "cell_type": "code",
   "execution_count": 27,
   "id": "43d374f9-24d5-4f07-ac71-f7fbef07106c",
   "metadata": {},
   "outputs": [
    {
     "data": {
      "text/plain": [
       "<matplotlib.image.AxesImage at 0x7f5970a1ba30>"
      ]
     },
     "execution_count": 27,
     "metadata": {},
     "output_type": "execute_result"
    },
    {
     "data": {
      "image/png": "[encoded data removed]",
      "text/plain": [
       "<Figure size 640x480 with 1 Axes>"
      ]
     },
     "metadata": {},
     "output_type": "display_data"
    }
   ],
   "source": [
    "plt.imshow(torch.tensor(bounds_delta_x[1]))"
   ]
  },
  {
   "cell_type": "code",
   "execution_count": 28,
   "id": "c7da9905-9ee2-446b-a929-163c5fb1b002",
   "metadata": {},
   "outputs": [
    {
     "data": {
      "text/plain": [
       "<matplotlib.image.AxesImage at 0x7f59709eb2e0>"
      ]
     },
     "execution_count": 28,
     "metadata": {},
     "output_type": "execute_result"
    },
    {
     "data": {
      "image/png": "[encoded data removed]",
      "text/plain": [
       "<Figure size 640x480 with 1 Axes>"
      ]
     },
     "metadata": {},
     "output_type": "display_data"
    }
   ],
   "source": [
    "plt.imshow(torch.tensor(bounds_delta_x[0]))"
   ]
  },
  {
   "cell_type": "code",
   "execution_count": 25,
   "id": "336369c5-4fa7-4dc3-8fc9-52b6004d9a4c",
   "metadata": {},
   "outputs": [
    {
     "data": {
      "text/plain": [
       "<matplotlib.image.AxesImage at 0x7f59708af0d0>"
      ]
     },
     "execution_count": 25,
     "metadata": {},
     "output_type": "execute_result"
    },
    {
     "data": {
      "image/png": "[encoded data removed]",
      "text/plain": [
       "<Figure size 640x480 with 1 Axes>"
      ]
     },
     "metadata": {},
     "output_type": "display_data"
    }
   ],
   "source": [
    "plt.imshow(down2d(torch.tensor(bounds_delta_x[1])))"
   ]
  },
  {
   "cell_type": "code",
   "execution_count": 29,
   "id": "70a8e9fa-d196-4c03-af5f-73882d8f167f",
   "metadata": {},
   "outputs": [
    {
     "data": {
      "text/plain": [
       "<matplotlib.image.AxesImage at 0x7f59703669d0>"
      ]
     },
     "execution_count": 29,
     "metadata": {},
     "output_type": "execute_result"
    },
    {
     "data": {
      "image/png": "[encoded data removed]",
      "text/plain": [
       "<Figure size 640x480 with 1 Axes>"
      ]
     },
     "metadata": {},
     "output_type": "display_data"
    }
   ],
   "source": [
    "plt.imshow(down2d(torch.tensor(bounds_delta_x[0])))"
   ]
  },
  {
   "cell_type": "code",
   "execution_count": 18,
   "id": "c09ba249-6dc6-499b-8081-c014c2b2fe56",
   "metadata": {},
   "outputs": [
    {
     "data": {
      "text/plain": [
       "<matplotlib.image.AxesImage at 0x7f58e2d450a0>"
      ]
     },
     "execution_count": 18,
     "metadata": {},
     "output_type": "execute_result"
    },
    {
     "data": {
      "image/png": "[encoded data removed]",
      "text/plain": [
       "<Figure size 640x480 with 1 Axes>"
      ]
     },
     "metadata": {},
     "output_type": "display_data"
    }
   ],
   "source": [
    "plt.imshow(x0)"
   ]
  },
  {
   "cell_type": "code",
   "execution_count": null,
   "id": "88cdc9b1-bc77-496c-a398-31aeb70d03ab",
   "metadata": {},
   "outputs": [],
   "source": []
  }
 ],
 "metadata": {
  "kernelspec": {
   "display_name": "Python 3 (ipykernel)",
   "language": "python",
   "name": "python3"
  },
  "language_info": {
   "codemirror_mode": {
    "name": "ipython",
    "version": 3
   },
   "file_extension": ".py",
   "mimetype": "text/x-python",
   "name": "python",
   "nbconvert_exporter": "python",
   "pygments_lexer": "ipython3",
   "version": "3.9.16"
  },
  "vscode": {
   "interpreter": {
    "hash": "d5afa6e12f881b734281db8c81111d8284515b56362758af3f762a609d0ddb79"
   }
  }
 },
 "nbformat": 4,
 "nbformat_minor": 5
}
