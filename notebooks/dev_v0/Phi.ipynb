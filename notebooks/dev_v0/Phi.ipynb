{
 "cells": [
  {
   "cell_type": "code",
   "execution_count": 57,
   "id": "1ec7a61a-c803-47a6-b36a-4b102adf102d",
   "metadata": {},
   "outputs": [],
   "source": [
    "import torch\n",
    "import pylab as plt\n",
    "import numpy as np"
   ]
  },
  {
   "cell_type": "code",
   "execution_count": 241,
   "id": "c9f33ca6-c7b8-43fc-ac44-72da20f13946",
   "metadata": {},
   "outputs": [],
   "source": [
    "def down1d(x):\n",
    "    # Squeeze to make work with zero and one batch dimensions\n",
    "    return torch.nn.functional.avg_pool1d(x.unsqueeze(0), 2).squeeze(0)\n",
    "\n",
    "def down2d(x):\n",
    "    return torch.nn.functional.avg_pool2d(x.unsqueeze(0), 2).squeeze(0)\n",
    "\n",
    "def down3d(x):\n",
    "    return torch.nn.functional.avg_pool3d(x.unsqueeze(0), 2).squeeze(0)\n",
    "\n",
    "def up1d(x):\n",
    "    return x.repeat_interleave(2, dim = -1)\n",
    "\n",
    "def up2d(x):\n",
    "    return x.repeat_interleave(2, dim = -2).repeat_interleave(2, dim = -1)\n",
    "\n",
    "def up3d(x):\n",
    "    return x.repeat_interleave(2, dim = -3).repeat_interleave(2, dim = -2).repeat_interleave(2, dim = -1)\n",
    "\n",
    "def avg1d(x):\n",
    "    return up1d(down1d(x))\n",
    "\n",
    "def avg2d(x):\n",
    "    return up2d(down2d(x))\n",
    "\n",
    "def avg3d(x):\n",
    "    return up3d(down3d(x))"
   ]
  },
  {
   "cell_type": "code",
   "execution_count": 242,
   "id": "85402270-a6d0-423e-a189-eefe401f691e",
   "metadata": {},
   "outputs": [],
   "source": [
    "def Phi1d(x):\n",
    "    \"\"\"\n",
    "    Takes 1-dim array x of length 2^L and turns it into 1-dim array of length 2*2^L-1\n",
    "    [x1, x2, x3, x4, (x1+x2)/2, (x3+x4)/2, (x1+x2+x3+x4)/4] etc\n",
    "    \"\"\"\n",
    "    length = x.shape[-1]\n",
    "    levels = int(np.log2(length))\n",
    "    temp = x\n",
    "    out = [temp]\n",
    "    for l in range(levels):\n",
    "        temp = down1d(temp)\n",
    "        out.append(temp)\n",
    "    return torch.cat(out, dim=-1)\n",
    "\n",
    "def PhiT1d(x):\n",
    "    \"\"\"\n",
    "    Transpose of Phi1d\n",
    "    \"\"\"\n",
    "    length = int((x.shape[-1]+1)/2)\n",
    "    levels = int(np.log2(length))\n",
    "    tmp = x\n",
    "    out = tmp[..., :length]\n",
    "    for l in range(levels, 0, -1):\n",
    "        tmp = torch.repeat_interleave(tmp[..., length:], 2, dim=-1)/2\n",
    "        out += tmp[..., :length]\n",
    "    return out\n",
    "\n",
    "def Cont1d(x):\n",
    "    \"\"\"\n",
    "    Calculates low-res contrastive vector.\n",
    "    \"\"\"\n",
    "    L = int((x.shape[-1]+1)/2)\n",
    "    x = torch.repeat_interleave(x[..., L:], 2, dim=-1)\n",
    "    x = torch.cat([x, x[..., -1:]*0], dim = -1)\n",
    "    return x"
   ]
  },
  {
   "cell_type": "code",
   "execution_count": 243,
   "id": "7c9585fc-2f8e-4cbd-9eb0-402f970541b5",
   "metadata": {},
   "outputs": [
    {
     "name": "stdout",
     "output_type": "stream",
     "text": [
      "tensor([[1., 1., 1., 1., 1., 1., 1., 1., 1., 1., 1., 1., 1., 1., 1., 1., 1., 1.,\n",
      "         1., 1., 1., 1., 1., 1., 1., 1., 1., 1., 1., 1., 1., 1., 1., 1., 1., 1.,\n",
      "         1., 1., 1., 1., 1., 1., 1., 1., 1., 1., 1., 1., 1., 1., 1., 1., 1., 1.,\n",
      "         1., 1., 1., 1., 1., 1., 1., 1., 1., 1., 1., 1., 1., 1., 1., 1., 1., 1.,\n",
      "         1., 1., 1., 1., 1., 1., 1., 1., 1., 1., 1., 1., 1., 1., 1., 1., 1., 1.,\n",
      "         1., 1., 1., 1., 1., 1., 1., 1., 1., 1., 1., 1., 1., 1., 1., 1., 1., 1.,\n",
      "         1., 1., 1., 1., 1., 1., 1., 1., 1., 1., 1., 1., 1., 1., 1., 1., 1., 1.,\n",
      "         1., 1., 1., 1., 1., 1., 1., 1., 1., 1., 1., 1., 1., 1., 1., 1., 1., 1.,\n",
      "         1., 1., 1., 1., 1., 1., 1., 1., 1., 1., 1., 1., 1., 1., 1., 1., 1., 1.,\n",
      "         1., 1., 1., 1., 1., 1., 1., 1., 1., 1., 1., 1., 1., 1., 1., 1., 1., 1.,\n",
      "         1., 1., 1., 1., 1., 1., 1., 1., 1., 1., 1., 1., 1., 1., 1., 1., 1., 1.,\n",
      "         1., 1., 1., 1., 1., 1., 1., 1., 1., 1., 1., 1., 1., 1., 1., 1., 1., 1.,\n",
      "         1., 1., 1., 1., 1., 1., 1., 1., 1., 1., 1., 1., 1., 1., 1., 1., 1., 1.,\n",
      "         1., 1., 1., 1., 1., 1., 1., 1., 1., 1., 1., 1., 1., 1., 1., 1., 1., 1.,\n",
      "         1., 1., 1., 1.]])\n"
     ]
    },
    {
     "data": {
      "text/plain": [
       "tensor([[1.9961, 1.9961, 1.9961, 1.9961, 1.9961, 1.9961, 1.9961, 1.9961, 1.9961,\n",
       "         1.9961, 1.9961, 1.9961, 1.9961, 1.9961, 1.9961, 1.9961, 1.9961, 1.9961,\n",
       "         1.9961, 1.9961, 1.9961, 1.9961, 1.9961, 1.9961, 1.9961, 1.9961, 1.9961,\n",
       "         1.9961, 1.9961, 1.9961, 1.9961, 1.9961, 1.9961, 1.9961, 1.9961, 1.9961,\n",
       "         1.9961, 1.9961, 1.9961, 1.9961, 1.9961, 1.9961, 1.9961, 1.9961, 1.9961,\n",
       "         1.9961, 1.9961, 1.9961, 1.9961, 1.9961, 1.9961, 1.9961, 1.9961, 1.9961,\n",
       "         1.9961, 1.9961, 1.9961, 1.9961, 1.9961, 1.9961, 1.9961, 1.9961, 1.9961,\n",
       "         1.9961, 1.9961, 1.9961, 1.9961, 1.9961, 1.9961, 1.9961, 1.9961, 1.9961,\n",
       "         1.9961, 1.9961, 1.9961, 1.9961, 1.9961, 1.9961, 1.9961, 1.9961, 1.9961,\n",
       "         1.9961, 1.9961, 1.9961, 1.9961, 1.9961, 1.9961, 1.9961, 1.9961, 1.9961,\n",
       "         1.9961, 1.9961, 1.9961, 1.9961, 1.9961, 1.9961, 1.9961, 1.9961, 1.9961,\n",
       "         1.9961, 1.9961, 1.9961, 1.9961, 1.9961, 1.9961, 1.9961, 1.9961, 1.9961,\n",
       "         1.9961, 1.9961, 1.9961, 1.9961, 1.9961, 1.9961, 1.9961, 1.9961, 1.9961,\n",
       "         1.9961, 1.9961, 1.9961, 1.9961, 1.9961, 1.9961, 1.9961, 1.9961, 1.9961,\n",
       "         1.9961, 1.9961, 1.9961, 1.9961, 1.9961, 1.9961, 1.9961, 1.9961, 1.9961,\n",
       "         1.9961, 1.9961, 1.9961, 1.9961, 1.9961, 1.9961, 1.9961, 1.9961, 1.9961,\n",
       "         1.9961, 1.9961, 1.9961, 1.9961, 1.9961, 1.9961, 1.9961, 1.9961, 1.9961,\n",
       "         1.9961, 1.9961, 1.9961, 1.9961, 1.9961, 1.9961, 1.9961, 1.9961, 1.9961,\n",
       "         1.9961, 1.9961, 1.9961, 1.9961, 1.9961, 1.9961, 1.9961, 1.9961, 1.9961,\n",
       "         1.9961, 1.9961, 1.9961, 1.9961, 1.9961, 1.9961, 1.9961, 1.9961, 1.9961,\n",
       "         1.9961, 1.9961, 1.9961, 1.9961, 1.9961, 1.9961, 1.9961, 1.9961, 1.9961,\n",
       "         1.9961, 1.9961, 1.9961, 1.9961, 1.9961, 1.9961, 1.9961, 1.9961, 1.9961,\n",
       "         1.9961, 1.9961, 1.9961, 1.9961, 1.9961, 1.9961, 1.9961, 1.9961, 1.9961,\n",
       "         1.9961, 1.9961, 1.9961, 1.9961, 1.9961, 1.9961, 1.9961, 1.9961, 1.9961,\n",
       "         1.9961, 1.9961, 1.9961, 1.9961, 1.9961, 1.9961, 1.9961, 1.9961, 1.9961,\n",
       "         1.9961, 1.9961, 1.9961, 1.9961, 1.9961, 1.9961, 1.9961, 1.9961, 1.9961,\n",
       "         1.9961, 1.9961, 1.9961, 1.9961, 1.9961, 1.9961, 1.9961, 1.9961, 1.9961,\n",
       "         1.9961, 1.9961, 1.9961, 1.9961, 1.9961, 1.9961, 1.9961, 1.9961, 1.9961,\n",
       "         1.9961, 1.9961, 1.9961, 1.9961]])"
      ]
     },
     "execution_count": 243,
     "metadata": {},
     "output_type": "execute_result"
    }
   ],
   "source": [
    "x = torch.randn(1, 256)*0 + 1\n",
    "print(x)\n",
    "y = Phi1d(x)\n",
    "z = Cont1d(y)\n",
    "#z = torch.repeat_interleave(y[..., 4:], 2, dim=-1)\n",
    "#z = torch.cat([z, z[..., -1:]*0], dim = -1)\n",
    "PhiT1d(y)"
   ]
  },
  {
   "cell_type": "code",
   "execution_count": null,
   "id": "11b5a45c-b014-4f8a-8d19-f18ffbb5ea35",
   "metadata": {},
   "outputs": [],
   "source": []
  }
 ],
 "metadata": {
  "kernelspec": {
   "display_name": "Python 3 (ipykernel)",
   "language": "python",
   "name": "python3"
  },
  "language_info": {
   "codemirror_mode": {
    "name": "ipython",
    "version": 3
   },
   "file_extension": ".py",
   "mimetype": "text/x-python",
   "name": "python",
   "nbconvert_exporter": "python",
   "pygments_lexer": "ipython3",
   "version": "3.9.13"
  }
 },
 "nbformat": 4,
 "nbformat_minor": 5
}
