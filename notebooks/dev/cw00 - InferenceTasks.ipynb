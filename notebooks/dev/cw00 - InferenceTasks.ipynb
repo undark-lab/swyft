{
 "cells": [
  {
   "cell_type": "markdown",
   "id": "6ec77850-b62c-4d3d-94d8-4c6ca4c70b77",
   "metadata": {},
   "source": [
    "# Swyft in 15 Minutes\n",
    "\n",
    "We discuss seven key steps of a typical Swyft workflow."
   ]
  },
  {
   "cell_type": "markdown",
   "id": "bd3002ce-7495-433b-9c95-693c60e917a1",
   "metadata": {},
   "source": [
    "## 1. Installing Swyft"
   ]
  },
  {
   "cell_type": "markdown",
   "id": "0cfdfa13-ee61-4f32-9310-ad8b807b1f07",
   "metadata": {},
   "source": [
    "We can use `pip` to install the lightning branch (latest development branch) of Swyft."
   ]
  },
  {
   "cell_type": "code",
   "execution_count": 1,
   "id": "7b2f598a-93c6-4c73-a093-d76f0b126813",
   "metadata": {},
   "outputs": [],
   "source": [
    "#!pip install https://github.com/undark-lab/swyft.git\n",
    "%load_ext autoreload\n",
    "%autoreload 2"
   ]
  },
  {
   "cell_type": "code",
   "execution_count": 2,
   "id": "db1bfed8-219c-4420-bf4d-673d98a51ef2",
   "metadata": {},
   "outputs": [
    {
     "data": {
      "text/plain": [
       "'1.9.4'"
      ]
     },
     "execution_count": 2,
     "metadata": {},
     "output_type": "execute_result"
    }
   ],
   "source": [
    "import numpy as np\n",
    "from scipy import stats\n",
    "import pylab as plt\n",
    "import torch\n",
    "import swyft\n",
    "from torch.nn import functional as F\n",
    "DEVICE = 'gpu' if torch.cuda.is_available() else 'cpu'\n",
    "torch.manual_seed(0)\n",
    "np.random.seed(0)\n",
    "import pytorch_lightning as pl\n",
    "pl.__version__"
   ]
  },
  {
   "cell_type": "markdown",
   "id": "15649024-2f24-4257-8d0e-0f326bf67884",
   "metadata": {},
   "source": [
    "## 2. Define the Simulator"
   ]
  },
  {
   "cell_type": "markdown",
   "id": "e3f6b1a8-d721-4d4f-b441-b03d1f9bf8a2",
   "metadata": {},
   "source": [
    "Next we define a simulator class, which specifies the computational graph of our simulator."
   ]
  },
  {
   "cell_type": "code",
   "execution_count": 181,
   "id": "503f3413-8065-431e-9641-a58bd21e08be",
   "metadata": {},
   "outputs": [],
   "source": [
    "class TruncatedDistribution:\n",
    "    def __call__(self, *args):\n",
    "        return self.sample(*args)\n",
    "\n",
    "class Rect(TruncatedDistribution):\n",
    "    def __init__(self, lo, hi):\n",
    "        self._hi = hi\n",
    "        self._lo = lo\n",
    "        self._sample = swyft.RectBoundSampler(stats.uniform(self._lo, self._hi - self._lo))\n",
    "        self._bounds = None\n",
    "        \n",
    "    @property\n",
    "    def bounds(self):\n",
    "        return self._bounds\n",
    "        \n",
    "    def sample(self):\n",
    "        return torch.tensor(self._sample()).float()\n",
    "        \n",
    "    def set_bounds(self, bounds):\n",
    "        self._sample = swyft.RectBoundSampler(stats.uniform(self._lo, self._hi - self._lo), bounds = bounds)\n",
    "        self._bounds = bounds\n",
    "        return self\n",
    "    \n",
    "class SwyftSimulator(swyft.Simulator):\n",
    "    def __init__(self):\n",
    "        super().__init__()\n",
    "        self._store = None\n",
    "\n",
    "    def get_dataloader(self, N, as_dict = True, targets = None):\n",
    "        if self._store is not None:\n",
    "            if self._store.sims_required > 0:\n",
    "                self._store.simulate(self, batch_size = 1000)\n",
    "            dm = swyft.SwyftDataModule(self._store, batch_size = 64, as_dict = as_dict, targets = targets)\n",
    "        else:\n",
    "            samples = self.sample(N = N)\n",
    "            dm = swyft.SwyftDataModule(samples, batch_size = 64, as_dict = as_dict, targets = targets)\n",
    "        return dm\n",
    "    \n",
    "    def set_store(self, path, N):\n",
    "        shapes, dtypes = self.get_shapes_and_dtypes()\n",
    "        store = swyft.ZarrStore(path)\n",
    "        self._store = store.init(N, 64, shapes, dtypes)  # Only initializes once, afterwards generates a warning message\n",
    "        return self\n",
    "    \n",
    "    def set_bounds(self, conditions):\n",
    "        for k, v in conditions.items():\n",
    "            self.graph[k]._fn.set_bounds(v)\n",
    "        return self\n",
    "    \n",
    "    \n",
    "class InferenceNetwork(swyft.AdamWReduceLROnPlateau, swyft.OnFitEndLoadBestModel, pl.LightningModule):\n",
    "    def __init__(self):\n",
    "        super().__init__()\n",
    "        self.embedding = torch.nn.Linear(10, 2)\n",
    "        self.logratios1 = swyft.LogRatioEstimator_1dim(num_features = 2, num_params = 2, varnames = 'z')\n",
    "        \n",
    "    def forward(self, x, z):\n",
    "        return self.logratios1(x, z).logratios\n",
    "        \n",
    "    def loss(self, x, z):\n",
    "        num_pos = len(x)\n",
    "        num_neg = len(x)\n",
    "        z_contrastive = torch.roll(z, 1, dims=0)\n",
    "        Z = torch.cat([z, z_contrastive])\n",
    "        shape = [1 for _ in range(x.dim())]\n",
    "        shape[0] = 2\n",
    "        X = x.repeat(*shape)\n",
    "        \n",
    "#        print(X.shape, Z.shape)\n",
    "\n",
    "#        num_pos = len(list(X.values())[0])  # Number of positive examples\n",
    "#        num_neg = len(list(Z.values())[0]) - num_pos  # Number of negative examples\n",
    "\n",
    "        logratios = self(X, Z)\n",
    "#        print(logratios.shape)\n",
    "\n",
    "        y = torch.zeros_like(logratios)\n",
    "#        print(y.shape)\n",
    "        y[:num_pos, ...] = 1\n",
    "#        pos_weight = torch.ones_like(logratios[0])# * num_neg / num_pos\n",
    "        loss = F.binary_cross_entropy_with_logits(\n",
    "            logratios, y, reduction=\"none\"#, pos_weight=pos_weight\n",
    "        )\n",
    "        num_ratios = loss.shape[1]\n",
    "        loss = loss.sum() / num_neg  # Calculates batched-averaged loss\n",
    "        loss = loss - 2 * np.log(2.0) * num_ratios\n",
    "\n",
    "        return loss\n",
    "        \n",
    "    def training_step(self, batch, batch_idx):\n",
    "        x, z = batch\n",
    "        s = self.embedding(x)        \n",
    "        loss = self.loss(s, z)      \n",
    "        self.log(\"train_loss\", loss, on_step=True, on_epoch=False)\n",
    "        return loss\n",
    "    \n",
    "    def validation_step(self, batch, batch_idx):\n",
    "        x, z = batch\n",
    "        s = self.embedding(x)   \n",
    "        loss = self.loss(s, z)      \n",
    "        self.log(\"val_loss\", loss, prog_bar=True, on_step=False, on_epoch=True)\n",
    "        return loss\n",
    "    \n",
    "    def set_observation(self, x0):\n",
    "        self._x0 = x0\n",
    "    \n",
    "    def predict_step(self, batch, batch_idx):\n",
    "        z = batch[0]\n",
    "        x = self._x0.unsqueeze(0)\n",
    "#        print(x.shape, z.shape)\n",
    "        s = self.embedding(x)\n",
    "#        print(s.shape, z.shape)\n",
    "        s, z = swyft.equalize_tensors(s, z)\n",
    "#        print(s.shape, z.shape)\n",
    "        logratios = self(s, z)\n",
    "        return logratios, z\n",
    "    \n",
    "class InferenceTask:\n",
    "    def __init__(self, name, network, data_name, param_name, simulator = None, trainer = None):\n",
    "        self._name = name\n",
    "        self._network = network\n",
    "        self._targets = [data_name, param_name]\n",
    "        self._sim = simulator\n",
    "        self._trainer = trainer\n",
    "    \n",
    "    def execute(self):\n",
    "        dm = self._sim.get_dataloader(10000, as_dict = False, targets = self._targets)\n",
    "        self._trainer.fit(self._network, dm)\n",
    "    \n",
    "    def get_posteriors(self, x0):\n",
    "        self._network.set_observation(x0)\n",
    "        prior_samples = self._sim.get_dataloader(10000, as_dict = False, targets = [self._targets[1]])\n",
    "        predictions = self._trainer.predict(self._network, prior_samples)\n",
    "        logratios = torch.cat([p[0] for p in predictions])\n",
    "        params = torch.cat([p[1] for p in predictions])\n",
    "        results = swyft.LogRatioSamples(logratios, params.unsqueeze(-1), np.array([['z[0]'], ['z[1]']]), None)\n",
    "        return results\n",
    "    \n",
    "    def get_bounds(self, x0):\n",
    "        results = self.get_posteriors(x0)\n",
    "        bounds = swyft.collect_rect_bounds(results, 'z', (2,), threshold = 1e-6)\n",
    "        sampler = self._sim.graph[self._targets[1]]\n",
    "        return bounds"
   ]
  },
  {
   "cell_type": "code",
   "execution_count": 186,
   "id": "94119669-c228-4ed1-8d8a-c1090c532a21",
   "metadata": {},
   "outputs": [
    {
     "name": "stderr",
     "output_type": "stream",
     "text": [
      "/var/folders/xy/7m07k3417w76kc7zq5jpq3500000gn/T/ipykernel_87654/2921352143.py:16: UserWarning: To copy construct from a tensor, it is recommended to use sourceTensor.clone().detach() or sourceTensor.clone().detach().requires_grad_(True), rather than torch.tensor(sourceTensor).\n",
      "  x0 = torch.tensor(x0)\n"
     ]
    }
   ],
   "source": [
    "class Simulator(SwyftSimulator):\n",
    "    def __init__(self):\n",
    "        super().__init__()\n",
    "        self.x = torch.linspace(-1, 1, 10)\n",
    "         \n",
    "    def build(self, graph):\n",
    "        z = graph.node('z', Rect(np.array([-1, -1]), np.array([1, 1])))\n",
    "        f = graph.node('f', lambda z: z[0] + z[1]*self.x, z)\n",
    "        x = graph.node('x', lambda f: f + torch.randn(10)*0.1, f)\n",
    "\n",
    "sim = Simulator()\n",
    "#sim.set_store(\"./test3\", 10000)\n",
    "\n",
    "z0 = np.array([0.3, 0.7])\n",
    "x0 = sim.sample(conditions = {\"z\": z0})['x']\n",
    "x0 = torch.tensor(x0)"
   ]
  },
  {
   "cell_type": "markdown",
   "id": "9348cf96-3347-4698-8d89-fa6c50cd2314",
   "metadata": {},
   "source": [
    "## 4. Train the model"
   ]
  },
  {
   "cell_type": "code",
   "execution_count": 187,
   "id": "96f63051-017a-45c3-891f-d31d85d4563b",
   "metadata": {},
   "outputs": [
    {
     "name": "stderr",
     "output_type": "stream",
     "text": [
      "GPU available: True (mps), used: False\n",
      "TPU available: False, using: 0 TPU cores\n",
      "IPU available: False, using: 0 IPUs\n",
      "HPU available: False, using: 0 HPUs\n"
     ]
    },
    {
     "data": {
      "application/vnd.jupyter.widget-view+json": {
       "model_id": "15ab069e3a9341dd9ca134c1c8ebb4fb",
       "version_major": 2,
       "version_minor": 0
      },
      "text/plain": [
       "  0%|          | 0/10000 [00:00<?, ?it/s]"
      ]
     },
     "metadata": {},
     "output_type": "display_data"
    },
    {
     "name": "stderr",
     "output_type": "stream",
     "text": [
      "The following callbacks returned in `LightningModule.configure_callbacks` will override existing callbacks passed to Trainer: ModelCheckpoint\n",
      "\n",
      "  | Name       | Type                   | Params\n",
      "------------------------------------------------------\n",
      "0 | embedding  | Linear                 | 22    \n",
      "1 | logratios1 | LogRatioEstimator_1dim | 34.9 K\n",
      "------------------------------------------------------\n",
      "35.0 K    Trainable params\n",
      "0         Non-trainable params\n",
      "35.0 K    Total params\n",
      "0.140     Total estimated model params size (MB)\n"
     ]
    },
    {
     "name": "stdout",
     "output_type": "stream",
     "text": [
      "SwyftDataModule setup stage: TrainerFn.FITTING\n"
     ]
    },
    {
     "data": {
      "application/vnd.jupyter.widget-view+json": {
       "model_id": "",
       "version_major": 2,
       "version_minor": 0
      },
      "text/plain": [
       "Sanity Checking: 0it [00:00, ?it/s]"
      ]
     },
     "metadata": {},
     "output_type": "display_data"
    },
    {
     "data": {
      "application/vnd.jupyter.widget-view+json": {
       "model_id": "1e417c173a08499e9ac05a43647f4dd7",
       "version_major": 2,
       "version_minor": 0
      },
      "text/plain": [
       "Training: 0it [00:00, ?it/s]"
      ]
     },
     "metadata": {},
     "output_type": "display_data"
    },
    {
     "data": {
      "application/vnd.jupyter.widget-view+json": {
       "model_id": "",
       "version_major": 2,
       "version_minor": 0
      },
      "text/plain": [
       "Validation: 0it [00:00, ?it/s]"
      ]
     },
     "metadata": {},
     "output_type": "display_data"
    },
    {
     "data": {
      "application/vnd.jupyter.widget-view+json": {
       "model_id": "",
       "version_major": 2,
       "version_minor": 0
      },
      "text/plain": [
       "Validation: 0it [00:00, ?it/s]"
      ]
     },
     "metadata": {},
     "output_type": "display_data"
    },
    {
     "data": {
      "application/vnd.jupyter.widget-view+json": {
       "model_id": "",
       "version_major": 2,
       "version_minor": 0
      },
      "text/plain": [
       "Validation: 0it [00:00, ?it/s]"
      ]
     },
     "metadata": {},
     "output_type": "display_data"
    },
    {
     "data": {
      "application/vnd.jupyter.widget-view+json": {
       "model_id": "",
       "version_major": 2,
       "version_minor": 0
      },
      "text/plain": [
       "Validation: 0it [00:00, ?it/s]"
      ]
     },
     "metadata": {},
     "output_type": "display_data"
    },
    {
     "data": {
      "application/vnd.jupyter.widget-view+json": {
       "model_id": "",
       "version_major": 2,
       "version_minor": 0
      },
      "text/plain": [
       "Validation: 0it [00:00, ?it/s]"
      ]
     },
     "metadata": {},
     "output_type": "display_data"
    },
    {
     "data": {
      "application/vnd.jupyter.widget-view+json": {
       "model_id": "",
       "version_major": 2,
       "version_minor": 0
      },
      "text/plain": [
       "Validation: 0it [00:00, ?it/s]"
      ]
     },
     "metadata": {},
     "output_type": "display_data"
    },
    {
     "data": {
      "application/vnd.jupyter.widget-view+json": {
       "model_id": "",
       "version_major": 2,
       "version_minor": 0
      },
      "text/plain": [
       "Validation: 0it [00:00, ?it/s]"
      ]
     },
     "metadata": {},
     "output_type": "display_data"
    },
    {
     "data": {
      "application/vnd.jupyter.widget-view+json": {
       "model_id": "",
       "version_major": 2,
       "version_minor": 0
      },
      "text/plain": [
       "Validation: 0it [00:00, ?it/s]"
      ]
     },
     "metadata": {},
     "output_type": "display_data"
    },
    {
     "data": {
      "application/vnd.jupyter.widget-view+json": {
       "model_id": "",
       "version_major": 2,
       "version_minor": 0
      },
      "text/plain": [
       "Validation: 0it [00:00, ?it/s]"
      ]
     },
     "metadata": {},
     "output_type": "display_data"
    },
    {
     "data": {
      "application/vnd.jupyter.widget-view+json": {
       "model_id": "",
       "version_major": 2,
       "version_minor": 0
      },
      "text/plain": [
       "Validation: 0it [00:00, ?it/s]"
      ]
     },
     "metadata": {},
     "output_type": "display_data"
    },
    {
     "name": "stderr",
     "output_type": "stream",
     "text": [
      "`Trainer.fit` stopped: `max_epochs=10` reached.\n"
     ]
    },
    {
     "name": "stdout",
     "output_type": "stream",
     "text": [
      "Reloading best model: /Users/cweniger/Documents/swyft/notebooks/dev/lightning_logs/version_102/checkpoints/epoch=9-step=1250.ckpt\n"
     ]
    }
   ],
   "source": [
    "trainer = swyft.SwyftTrainer(accelerator = DEVICE, max_epochs = 10)\n",
    "inftask = InferenceTask(\"T1\", InferenceNetwork(), \"x\", \"z\", simulator = sim, trainer = trainer)\n",
    "inftask.execute()"
   ]
  },
  {
   "cell_type": "code",
   "execution_count": 188,
   "id": "ba00a114-1648-4fc6-a296-e9f71eb94c6e",
   "metadata": {},
   "outputs": [
    {
     "data": {
      "application/vnd.jupyter.widget-view+json": {
       "model_id": "b095671477fe450fb8aeb2b74e9dc85e",
       "version_major": 2,
       "version_minor": 0
      },
      "text/plain": [
       "  0%|          | 0/10000 [00:00<?, ?it/s]"
      ]
     },
     "metadata": {},
     "output_type": "display_data"
    },
    {
     "name": "stderr",
     "output_type": "stream",
     "text": [
      "The following callbacks returned in `LightningModule.configure_callbacks` will override existing callbacks passed to Trainer: EarlyStopping, ModelCheckpoint\n"
     ]
    },
    {
     "name": "stdout",
     "output_type": "stream",
     "text": [
      "SwyftDataModule setup stage: TrainerFn.PREDICTING\n"
     ]
    },
    {
     "data": {
      "application/vnd.jupyter.widget-view+json": {
       "model_id": "adb9792b2289471480595421b4e40599",
       "version_major": 2,
       "version_minor": 0
      },
      "text/plain": [
       "Predicting: 125it [00:00, ?it/s]"
      ]
     },
     "metadata": {},
     "output_type": "display_data"
    },
    {
     "data": {
      "image/png": "[encoded data removed]",
      "text/plain": [
       "<Figure size 640x480 with 2 Axes>"
      ]
     },
     "metadata": {},
     "output_type": "display_data"
    }
   ],
   "source": [
    "results = inftask.get_posteriors(x0)\n",
    "swyft.plot_posterior(results, ['z[0]', 'z[1]']);"
   ]
  },
  {
   "cell_type": "code",
   "execution_count": 189,
   "id": "d105166f-69c1-4d90-93f6-ae265bbeed9b",
   "metadata": {},
   "outputs": [
    {
     "data": {
      "application/vnd.jupyter.widget-view+json": {
       "model_id": "10a1ad8fcea84ed89a7ad5d276f5f984",
       "version_major": 2,
       "version_minor": 0
      },
      "text/plain": [
       "  0%|          | 0/10000 [00:00<?, ?it/s]"
      ]
     },
     "metadata": {},
     "output_type": "display_data"
    },
    {
     "name": "stderr",
     "output_type": "stream",
     "text": [
      "The following callbacks returned in `LightningModule.configure_callbacks` will override existing callbacks passed to Trainer: EarlyStopping, ModelCheckpoint\n"
     ]
    },
    {
     "name": "stdout",
     "output_type": "stream",
     "text": [
      "SwyftDataModule setup stage: TrainerFn.PREDICTING\n"
     ]
    },
    {
     "data": {
      "application/vnd.jupyter.widget-view+json": {
       "model_id": "8e76d71112aa498a93a63687009a2e8a",
       "version_major": 2,
       "version_minor": 0
      },
      "text/plain": [
       "Predicting: 125it [00:00, ?it/s]"
      ]
     },
     "metadata": {},
     "output_type": "display_data"
    },
    {
     "data": {
      "text/plain": [
       "tensor([[ 0.1311,  0.5524],\n",
       "        [-0.2201,  0.9999]])"
      ]
     },
     "execution_count": 189,
     "metadata": {},
     "output_type": "execute_result"
    }
   ],
   "source": [
    "bounds = inftask.get_bounds(x0)\n",
    "sim = Simulator().set_bounds({\"z\": bounds})\n",
    "bounds"
   ]
  },
  {
   "cell_type": "code",
   "execution_count": null,
   "id": "eb21381e-2b60-4d37-b780-a3391627fb84",
   "metadata": {},
   "outputs": [],
   "source": []
  }
 ],
 "metadata": {
  "kernelspec": {
   "display_name": "Python 3 (ipykernel)",
   "language": "python",
   "name": "python3"
  },
  "language_info": {
   "codemirror_mode": {
    "name": "ipython",
    "version": 3
   },
   "file_extension": ".py",
   "mimetype": "text/x-python",
   "name": "python",
   "nbconvert_exporter": "python",
   "pygments_lexer": "ipython3",
   "version": "3.9.13"
  }
 },
 "nbformat": 4,
 "nbformat_minor": 5
}
